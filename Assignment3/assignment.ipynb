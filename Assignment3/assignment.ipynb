{
 "cells": [
  {
   "cell_type": "code",
   "execution_count": 1,
   "metadata": {},
   "outputs": [
    {
     "name": "stderr",
     "output_type": "stream",
     "text": [
      "2023-03-27 16:26:58.489038: I tensorflow/core/platform/cpu_feature_guard.cc:193] This TensorFlow binary is optimized with oneAPI Deep Neural Network Library (oneDNN) to use the following CPU instructions in performance-critical operations:  SSE4.1 SSE4.2 AVX AVX2 FMA\n",
      "To enable them in other operations, rebuild TensorFlow with the appropriate compiler flags.\n"
     ]
    }
   ],
   "source": [
    "import tensorflow as tf\n",
    "import datetime, os\n",
    "import numpy as np\n",
    "import pandas as pd\n",
    "from PIL import Image"
   ]
  },
  {
   "cell_type": "code",
   "execution_count": 2,
   "metadata": {},
   "outputs": [],
   "source": [
    "# Load the TensorBoard notebook extension\n",
    "%load_ext tensorboard"
   ]
  },
  {
   "cell_type": "code",
   "execution_count": 3,
   "metadata": {},
   "outputs": [],
   "source": [
    "def get_image(fp):\n",
    "    \"\"\"\n",
    "    return the 32x32 greyscale array\n",
    "    \"\"\"\n",
    "    img = Image.open(fp)\n",
    "    return np.asarray(img)\n"
   ]
  },
  {
   "attachments": {},
   "cell_type": "markdown",
   "metadata": {},
   "source": [
    "## 1: Fully Connected Neural Network"
   ]
  },
  {
   "cell_type": "code",
   "execution_count": 10,
   "metadata": {},
   "outputs": [],
   "source": [
    "# Feed forward network with:\n",
    "    # 1024 neurors with tanh act\n",
    "    # 512 neurons with sig act\n",
    "    # 100 neurons with relu act\n",
    "    # n neurons with softmax act\n",
    "def create_model(n):\n",
    "    model = tf.keras.Sequential()\n",
    "    model.add(tf.keras.layers.Dense(1024, input_shape=(1024,), activation='tanh', name='fc1'))\n",
    "    model.add(tf.keras.layers.Dense(512, activation='sigmoid', name='fc2'))\n",
    "    model.add(tf.keras.layers.Dense(100, activation='relu', name='fc3'))\n",
    "    model.add(tf.keras.layers.Dense(n, activation='softmax', name='output'))\n",
    "    return model"
   ]
  },
  {
   "cell_type": "code",
   "execution_count": 11,
   "metadata": {},
   "outputs": [],
   "source": [
    "# Create train and test data from csvs in train and test folders\n",
    "train_data = pd.read_csv('fairface_label_train.csv')[:10000]\n",
    "test_data = pd.read_csv('fairface_label_train.csv')[:1000]\n",
    "\n",
    "# Replace the file column with the actual images using get_image function\n",
    "train_X = np.array([get_image(fp).flatten() for fp in train_data['file']])\n",
    "test_X = np.array([get_image(fp).flatten() for fp in test_data['file']])\n",
    "\n",
    "# Get the labels, 0 for Male and 1 for Female\n",
    "train_Y = np.array([(0,1) if x == 'Female' else (1,0) for x in train_data['gender']])\n",
    "test_Y = np.array([(0,1) if x == 'Female' else (1,0) for x in test_data['gender']])\n",
    "\n",
    "# Min max normalize the data\n",
    "max_val = np.max(train_X)\n",
    "min_val = np.min(train_X)\n",
    "train_X = (train_X - min_val) / (max_val - min_val)\n",
    "test_X = (test_X - min_val) / (max_val - min_val)\n",
    "\n"
   ]
  },
  {
   "cell_type": "code",
   "execution_count": 12,
   "metadata": {},
   "outputs": [
    {
     "name": "stdout",
     "output_type": "stream",
     "text": [
      "<class 'numpy.ndarray'>\n",
      "(1000, 2)\n"
     ]
    }
   ],
   "source": [
    "print(type(test_Y))\n",
    "print(test_Y.shape)"
   ]
  },
  {
   "attachments": {},
   "cell_type": "markdown",
   "metadata": {},
   "source": [
    "### 1.1 Gender Classification"
   ]
  },
  {
   "cell_type": "code",
   "execution_count": 13,
   "metadata": {},
   "outputs": [
    {
     "name": "stdout",
     "output_type": "stream",
     "text": [
      "Model: \"sequential_1\"\n",
      "_________________________________________________________________\n",
      " Layer (type)                Output Shape              Param #   \n",
      "=================================================================\n",
      " fc1 (Dense)                 (None, 1024)              1049600   \n",
      "                                                                 \n",
      " fc2 (Dense)                 (None, 512)               524800    \n",
      "                                                                 \n",
      " fc3 (Dense)                 (None, 100)               51300     \n",
      "                                                                 \n",
      " output (Dense)              (None, 2)                 202       \n",
      "                                                                 \n",
      "=================================================================\n",
      "Total params: 1,625,902\n",
      "Trainable params: 1,625,902\n",
      "Non-trainable params: 0\n",
      "_________________________________________________________________\n",
      "None\n",
      "Epoch 1/10\n",
      "313/313 [==============================] - 4s 9ms/step - loss: 0.6799 - accuracy: 0.5694 - val_loss: 0.6608 - val_accuracy: 0.6070\n",
      "Epoch 2/10\n",
      "313/313 [==============================] - 3s 8ms/step - loss: 0.6701 - accuracy: 0.5886 - val_loss: 0.6574 - val_accuracy: 0.6080\n",
      "Epoch 3/10\n",
      "313/313 [==============================] - 2s 7ms/step - loss: 0.6594 - accuracy: 0.6081 - val_loss: 0.6647 - val_accuracy: 0.5960\n",
      "Epoch 4/10\n",
      "313/313 [==============================] - 2s 7ms/step - loss: 0.6541 - accuracy: 0.6147 - val_loss: 0.6490 - val_accuracy: 0.6050\n",
      "Epoch 5/10\n",
      "313/313 [==============================] - 2s 7ms/step - loss: 0.6528 - accuracy: 0.6153 - val_loss: 0.6364 - val_accuracy: 0.6370\n",
      "Epoch 6/10\n",
      "313/313 [==============================] - 2s 7ms/step - loss: 0.6482 - accuracy: 0.6213 - val_loss: 0.6294 - val_accuracy: 0.6510\n",
      "Epoch 7/10\n",
      "313/313 [==============================] - 2s 7ms/step - loss: 0.6448 - accuracy: 0.6217 - val_loss: 0.6248 - val_accuracy: 0.6500\n",
      "Epoch 8/10\n",
      "313/313 [==============================] - 2s 7ms/step - loss: 0.6400 - accuracy: 0.6311 - val_loss: 0.6626 - val_accuracy: 0.5780\n",
      "Epoch 9/10\n",
      "313/313 [==============================] - 2s 7ms/step - loss: 0.6355 - accuracy: 0.6350 - val_loss: 0.6442 - val_accuracy: 0.6080\n",
      "Epoch 10/10\n",
      "313/313 [==============================] - 2s 7ms/step - loss: 0.6284 - accuracy: 0.6484 - val_loss: 0.6140 - val_accuracy: 0.6750\n"
     ]
    },
    {
     "data": {
      "text/plain": [
       "<keras.callbacks.History at 0x7fb99801cb20>"
      ]
     },
     "execution_count": 13,
     "metadata": {},
     "output_type": "execute_result"
    }
   ],
   "source": [
    "gender_model = create_model(2)\n",
    "gender_model.compile(optimizer='sgd', loss='categorical_crossentropy', metrics=['accuracy'])\n",
    "\n",
    "print(gender_model.summary())\n",
    "\n",
    "logdir = os.path.join(\"logs\", datetime.datetime.now().strftime(\"%Y%m%d-%H%M%S\"))\n",
    "tensorboard_callback = tf.keras.callbacks.TensorBoard(logdir, histogram_freq=1)\n",
    "\n",
    "# Train the model\n",
    "gender_model.fit(x=train_X, \n",
    "                 y=train_Y, \n",
    "                 epochs=10, \n",
    "                 validation_data=(test_X, test_Y),\n",
    "                 callbacks=[tensorboard_callback])\n",
    "\n",
    "# Test the model"
   ]
  },
  {
   "cell_type": "code",
   "execution_count": 14,
   "metadata": {},
   "outputs": [
    {
     "data": {
      "text/html": [
       "\n",
       "      <iframe id=\"tensorboard-frame-b6132a93a716dd77\" width=\"100%\" height=\"800\" frameborder=\"0\">\n",
       "      </iframe>\n",
       "      <script>\n",
       "        (function() {\n",
       "          const frame = document.getElementById(\"tensorboard-frame-b6132a93a716dd77\");\n",
       "          const url = new URL(\"/\", window.location);\n",
       "          const port = 6006;\n",
       "          if (port) {\n",
       "            url.port = port;\n",
       "          }\n",
       "          frame.src = url;\n",
       "        })();\n",
       "      </script>\n",
       "    "
      ],
      "text/plain": [
       "<IPython.core.display.HTML object>"
      ]
     },
     "metadata": {},
     "output_type": "display_data"
    }
   ],
   "source": [
    "%tensorboard --logdir logs"
   ]
  },
  {
   "cell_type": "code",
   "execution_count": null,
   "metadata": {},
   "outputs": [],
   "source": []
  }
 ],
 "metadata": {
  "kernelspec": {
   "display_name": "py38",
   "language": "python",
   "name": "python3"
  },
  "language_info": {
   "codemirror_mode": {
    "name": "ipython",
    "version": 3
   },
   "file_extension": ".py",
   "mimetype": "text/x-python",
   "name": "python",
   "nbconvert_exporter": "python",
   "pygments_lexer": "ipython3",
   "version": "3.8.16"
  },
  "orig_nbformat": 4
 },
 "nbformat": 4,
 "nbformat_minor": 2
}
