{
 "cells": [
  {
   "cell_type": "code",
   "execution_count": 1,
   "metadata": {},
   "outputs": [
    {
     "name": "stderr",
     "output_type": "stream",
     "text": [
      "2023-03-28 11:04:02.071235: I tensorflow/core/platform/cpu_feature_guard.cc:193] This TensorFlow binary is optimized with oneAPI Deep Neural Network Library (oneDNN) to use the following CPU instructions in performance-critical operations:  SSE4.1 SSE4.2 AVX AVX2 FMA\n",
      "To enable them in other operations, rebuild TensorFlow with the appropriate compiler flags.\n"
     ]
    }
   ],
   "source": [
    "import tensorflow as tf\n",
    "import datetime, os\n",
    "import numpy as np\n",
    "import pandas as pd\n",
    "from PIL import Image\n",
    "import matplotlib.pyplot as plt\n",
    "import seaborn as sns\n",
    "from sklearn.metrics import confusion_matrix"
   ]
  },
  {
   "cell_type": "code",
   "execution_count": 2,
   "metadata": {},
   "outputs": [],
   "source": [
    "# Load the TensorBoard notebook extension\n",
    "%load_ext tensorboard"
   ]
  },
  {
   "cell_type": "code",
   "execution_count": 3,
   "metadata": {},
   "outputs": [],
   "source": [
    "def get_image(fp):\n",
    "    \"\"\"\n",
    "    return the 32x32 greyscale array\n",
    "    \"\"\"\n",
    "    img = Image.open(fp)\n",
    "    return np.asarray(img)\n"
   ]
  },
  {
   "cell_type": "code",
   "execution_count": 4,
   "metadata": {},
   "outputs": [],
   "source": [
    "# Create train and test data from csvs in train and test folders\n",
    "train_data = pd.read_csv('fairface_label_train.csv')[:10000]\n",
    "test_data = pd.read_csv('fairface_label_train.csv')[:1000]\n",
    "\n",
    "# Replace the file column with the actual images using get_image function\n",
    "train_X = np.array([get_image(fp).flatten() for fp in train_data['file']])\n",
    "test_X = np.array([get_image(fp).flatten() for fp in test_data['file']])\n",
    "\n",
    "# Get the labels, 0 for Male and 1 for Female\n",
    "gender_train_Y = np.array([(0,1) if x == 'Female' else (1,0) for x in train_data['gender']])\n",
    "gender_test_Y = np.array([(0,1) if x == 'Female' else (1,0) for x in test_data['gender']])\n",
    "\n",
    "\n",
    "# Get the labels\n",
    "age_train_Y = np.array([np.zeros(9) for x in train_data['age']])\n",
    "age_test_Y = np.array([np.zeros(9) for x in test_data['age']])\n",
    "\n",
    "age_dict = {\n",
    "    '0-2': 0,\n",
    "    '3-9': 1,\n",
    "    '10-19': 2,\n",
    "    '20-29': 3,\n",
    "    '30-39': 4,\n",
    "    '40-49': 5,\n",
    "    '50-59': 6,\n",
    "    '60-69': 7,\n",
    "    'more than 70': 8\n",
    "}\n",
    "\n",
    "for i, age in enumerate(train_data['age']):\n",
    "    age_train_Y[i][age_dict[age]] = 1\n",
    "\n",
    "for i, age in enumerate(test_data['age']):\n",
    "    age_test_Y[i][age_dict[age]] = 1\n",
    "\n",
    "\n",
    "# Min max normalize the data\n",
    "max_val = np.max(train_X)\n",
    "min_val = np.min(train_X)\n",
    "train_X = (train_X - min_val) / (max_val - min_val)\n",
    "test_X = (test_X - min_val) / (max_val - min_val)\n",
    "\n"
   ]
  },
  {
   "attachments": {},
   "cell_type": "markdown",
   "metadata": {},
   "source": [
    "## 1: Fully Connected Neural Network"
   ]
  },
  {
   "cell_type": "code",
   "execution_count": 5,
   "metadata": {},
   "outputs": [],
   "source": [
    "# Feed forward network with:\n",
    "    # 1024 neurors with tanh act\n",
    "    # 512 neurons with sig act\n",
    "    # 100 neurons with relu act\n",
    "    # n neurons with softmax act\n",
    "def create_model(n):\n",
    "    model = tf.keras.Sequential()\n",
    "    model.add(tf.keras.layers.Dense(1024, input_shape=(1024,), activation='tanh', name='fc1'))\n",
    "    model.add(tf.keras.layers.Dense(512, activation='sigmoid', name='fc2'))\n",
    "    model.add(tf.keras.layers.Dense(100, activation='relu', name='fc3'))\n",
    "    model.add(tf.keras.layers.Dense(n, activation='softmax', name='output'))\n",
    "    return model"
   ]
  },
  {
   "attachments": {},
   "cell_type": "markdown",
   "metadata": {},
   "source": [
    "### 1.1 Gender Classification"
   ]
  },
  {
   "cell_type": "code",
   "execution_count": 6,
   "metadata": {},
   "outputs": [
    {
     "name": "stdout",
     "output_type": "stream",
     "text": [
      "Model: \"sequential\"\n",
      "_________________________________________________________________\n",
      " Layer (type)                Output Shape              Param #   \n",
      "=================================================================\n",
      " fc1 (Dense)                 (None, 1024)              1049600   \n",
      "                                                                 \n",
      " fc2 (Dense)                 (None, 512)               524800    \n",
      "                                                                 \n",
      " fc3 (Dense)                 (None, 100)               51300     \n",
      "                                                                 \n",
      " output (Dense)              (None, 2)                 202       \n",
      "                                                                 \n",
      "=================================================================\n",
      "Total params: 1,625,902\n",
      "Trainable params: 1,625,902\n",
      "Non-trainable params: 0\n",
      "_________________________________________________________________\n"
     ]
    },
    {
     "name": "stderr",
     "output_type": "stream",
     "text": [
      "2023-03-28 11:05:59.710854: I tensorflow/core/platform/cpu_feature_guard.cc:193] This TensorFlow binary is optimized with oneAPI Deep Neural Network Library (oneDNN) to use the following CPU instructions in performance-critical operations:  SSE4.1 SSE4.2 AVX AVX2 FMA\n",
      "To enable them in other operations, rebuild TensorFlow with the appropriate compiler flags.\n"
     ]
    },
    {
     "name": "stdout",
     "output_type": "stream",
     "text": [
      "None\n",
      "Epoch 1/10\n",
      "313/313 [==============================] - 3s 8ms/step - loss: 0.6867 - accuracy: 0.5536 - val_loss: 0.7009 - val_accuracy: 0.5010\n",
      "Epoch 2/10\n",
      "313/313 [==============================] - 2s 6ms/step - loss: 0.6695 - accuracy: 0.5884 - val_loss: 0.6649 - val_accuracy: 0.5790\n",
      "Epoch 3/10\n",
      "313/313 [==============================] - 2s 7ms/step - loss: 0.6644 - accuracy: 0.5991 - val_loss: 0.6886 - val_accuracy: 0.5350\n",
      "Epoch 4/10\n",
      "313/313 [==============================] - 2s 7ms/step - loss: 0.6577 - accuracy: 0.6099 - val_loss: 0.6654 - val_accuracy: 0.5930\n",
      "Epoch 5/10\n",
      "313/313 [==============================] - 2s 7ms/step - loss: 0.6559 - accuracy: 0.6140 - val_loss: 0.6585 - val_accuracy: 0.5820\n",
      "Epoch 6/10\n",
      "313/313 [==============================] - 2s 6ms/step - loss: 0.6501 - accuracy: 0.6236 - val_loss: 0.6385 - val_accuracy: 0.6300\n",
      "Epoch 7/10\n",
      "313/313 [==============================] - 2s 7ms/step - loss: 0.6463 - accuracy: 0.6269 - val_loss: 0.6703 - val_accuracy: 0.6000\n",
      "Epoch 8/10\n",
      "313/313 [==============================] - 2s 7ms/step - loss: 0.6415 - accuracy: 0.6322 - val_loss: 0.6350 - val_accuracy: 0.6310\n",
      "Epoch 9/10\n",
      "313/313 [==============================] - 2s 6ms/step - loss: 0.6378 - accuracy: 0.6329 - val_loss: 0.6396 - val_accuracy: 0.6240\n",
      "Epoch 10/10\n",
      "313/313 [==============================] - 2s 7ms/step - loss: 0.6352 - accuracy: 0.6357 - val_loss: 0.6185 - val_accuracy: 0.6600\n",
      "32/32 [==============================] - 0s 3ms/step\n"
     ]
    },
    {
     "data": {
      "image/png": "[encoded data removed]",
      "text/plain": [
       "<Figure size 640x480 with 2 Axes>"
      ]
     },
     "metadata": {},
     "output_type": "display_data"
    }
   ],
   "source": [
    "gender_model = create_model(2)\n",
    "gender_model.compile(optimizer='sgd', loss='categorical_crossentropy', metrics=['accuracy'])\n",
    "\n",
    "print(gender_model.summary())\n",
    "\n",
    "logdir = os.path.join(\"logs\", datetime.datetime.now().strftime(\"%Y%m%d-%H%M%S\"))\n",
    "tensorboard_callback = tf.keras.callbacks.TensorBoard(logdir, histogram_freq=1)\n",
    "\n",
    "# Train the model\n",
    "gender_model.fit(x=train_X, \n",
    "                 y=gender_train_Y, \n",
    "                 epochs=10, \n",
    "                 validation_data=(test_X, gender_test_Y),\n",
    "                 callbacks=[tensorboard_callback])\n",
    "\n",
    "# Create a heatmap confusion matrix\n",
    "y_pred = gender_model.predict(test_X)\n",
    "y_pred = np.argmax(y_pred, axis=1)\n",
    "y_true = np.argmax(gender_test_Y, axis=1)\n",
    "\n",
    "# Print the final accuracy\n",
    "print('Accuracy: ', np.sum(y_pred == y_true) / len(y_true))\n",
    "\n",
    "cm = confusion_matrix(y_true, y_pred)\n",
    "sns.heatmap(cm, annot=True, cmap='Blues')\n",
    "plt.xlabel('Predicted labels')\n",
    "plt.ylabel('True labels')\n",
    "plt.show()\n"
   ]
  },
  {
   "cell_type": "code",
   "execution_count": 9,
   "metadata": {},
   "outputs": [
    {
     "data": {
      "text/html": [
       "\n",
       "      <iframe id=\"tensorboard-frame-ed8f0ef5e98450d\" width=\"100%\" height=\"800\" frameborder=\"0\">\n",
       "      </iframe>\n",
       "      <script>\n",
       "        (function() {\n",
       "          const frame = document.getElementById(\"tensorboard-frame-ed8f0ef5e98450d\");\n",
       "          const url = new URL(\"/\", window.location);\n",
       "          const port = 6006;\n",
       "          if (port) {\n",
       "            url.port = port;\n",
       "          }\n",
       "          frame.src = url;\n",
       "        })();\n",
       "      </script>\n",
       "    "
      ],
      "text/plain": [
       "<IPython.core.display.HTML object>"
      ]
     },
     "metadata": {},
     "output_type": "display_data"
    }
   ],
   "source": [
    "%tensorboard --logdir logs"
   ]
  },
  {
   "attachments": {},
   "cell_type": "markdown",
   "metadata": {},
   "source": [
    "### 1.2 Age Classification"
   ]
  },
  {
   "cell_type": "code",
   "execution_count": 7,
   "metadata": {},
   "outputs": [
    {
     "name": "stdout",
     "output_type": "stream",
     "text": [
      "Model: \"sequential_1\"\n",
      "_________________________________________________________________\n",
      " Layer (type)                Output Shape              Param #   \n",
      "=================================================================\n",
      " fc1 (Dense)                 (None, 1024)              1049600   \n",
      "                                                                 \n",
      " fc2 (Dense)                 (None, 512)               524800    \n",
      "                                                                 \n",
      " fc3 (Dense)                 (None, 100)               51300     \n",
      "                                                                 \n",
      " output (Dense)              (None, 9)                 909       \n",
      "                                                                 \n",
      "=================================================================\n",
      "Total params: 1,626,609\n",
      "Trainable params: 1,626,609\n",
      "Non-trainable params: 0\n",
      "_________________________________________________________________\n",
      "None\n",
      "Epoch 1/10\n",
      "313/313 [==============================] - 3s 8ms/step - loss: 1.8772 - accuracy: 0.2793 - val_loss: 1.8638 - val_accuracy: 0.2470\n",
      "Epoch 2/10\n",
      "313/313 [==============================] - 2s 7ms/step - loss: 1.8607 - accuracy: 0.2838 - val_loss: 1.8533 - val_accuracy: 0.2710\n",
      "Epoch 3/10\n",
      "313/313 [==============================] - 3s 8ms/step - loss: 1.8498 - accuracy: 0.2869 - val_loss: 1.8508 - val_accuracy: 0.2770\n",
      "Epoch 4/10\n",
      "313/313 [==============================] - 2s 8ms/step - loss: 1.8409 - accuracy: 0.2848 - val_loss: 1.8460 - val_accuracy: 0.2700\n",
      "Epoch 5/10\n",
      "313/313 [==============================] - 2s 7ms/step - loss: 1.8322 - accuracy: 0.2916 - val_loss: 1.8289 - val_accuracy: 0.2880\n",
      "Epoch 6/10\n",
      "313/313 [==============================] - 2s 7ms/step - loss: 1.8230 - accuracy: 0.2912 - val_loss: 1.8532 - val_accuracy: 0.2920\n",
      "Epoch 7/10\n",
      "313/313 [==============================] - 2s 6ms/step - loss: 1.8151 - accuracy: 0.2975 - val_loss: 1.8200 - val_accuracy: 0.2760\n",
      "Epoch 8/10\n",
      "313/313 [==============================] - 2s 7ms/step - loss: 1.8087 - accuracy: 0.2971 - val_loss: 1.7959 - val_accuracy: 0.2900\n",
      "Epoch 9/10\n",
      "313/313 [==============================] - 2s 7ms/step - loss: 1.8005 - accuracy: 0.3034 - val_loss: 1.8132 - val_accuracy: 0.3030\n",
      "Epoch 10/10\n",
      "313/313 [==============================] - 2s 7ms/step - loss: 1.7951 - accuracy: 0.3011 - val_loss: 1.7864 - val_accuracy: 0.2980\n",
      "32/32 [==============================] - 0s 3ms/step\n"
     ]
    },
    {
     "data": {
      "image/png": "[encoded data removed]",
      "text/plain": [
       "<Figure size 640x480 with 2 Axes>"
      ]
     },
     "metadata": {},
     "output_type": "display_data"
    }
   ],
   "source": [
    "age_model = create_model(9)\n",
    "age_model.compile(optimizer='sgd', loss='categorical_crossentropy', metrics=['accuracy'])\n",
    "\n",
    "print(age_model.summary())\n",
    "\n",
    "logdir = os.path.join(\"logs\", datetime.datetime.now().strftime(\"%Y%m%d-%H%M%S\"))\n",
    "tensorboard_callback = tf.keras.callbacks.TensorBoard(logdir, histogram_freq=1)\n",
    "\n",
    "# Train the model\n",
    "age_model.fit(x=train_X, \n",
    "                 y=age_train_Y, \n",
    "                 epochs=10, \n",
    "                 validation_data=(test_X, age_test_Y),\n",
    "                 callbacks=[tensorboard_callback])\n",
    "\n",
    "# Create a heatmap confusion matrix\n",
    "y_pred = age_model.predict(test_X)\n",
    "y_pred = np.argmax(y_pred, axis=1)\n",
    "y_true = np.argmax(age_test_Y, axis=1)\n",
    "\n",
    "# Print the final accuracy\n",
    "print('Accuracy: ', np.sum(y_pred == y_true) / len(y_true))\n",
    "\n",
    "cm = confusion_matrix(y_true, y_pred)\n",
    "sns.heatmap(cm, annot=True, cmap='Blues')\n",
    "plt.xlabel('Predicted labels')\n",
    "plt.ylabel('True labels')\n",
    "plt.show()"
   ]
  },
  {
   "cell_type": "code",
   "execution_count": null,
   "metadata": {},
   "outputs": [],
   "source": [
    "%tensorboard --logdir logs"
   ]
  },
  {
   "attachments": {},
   "cell_type": "markdown",
   "metadata": {},
   "source": [
    "## 2: Small Convolutional Neural Network"
   ]
  },
  {
   "cell_type": "code",
   "execution_count": 14,
   "metadata": {},
   "outputs": [],
   "source": [
    "\"\"\"\n",
    "Convolution layer having 40 feature detectors, with kernel size 5 x 5, and ReLU\n",
    "as the activation function, with stride 1 and no-padding.\n",
    " A max-pooling layer with pool size 2x2.\n",
    " Fully connected layer with 100 neurons, and ReLU as the activation function.\n",
    " Output layer: n (depending on the task) neurons representing the n classes, using\n",
    "the softmax activation function. function for each of the 10 neurons\n",
    "\"\"\"\n",
    "def create_CNN_model(n):\n",
    "    model = tf.keras.Sequential()\n",
    "    model.add(tf.keras.layers.Conv2D(40, kernel_size=(5, 5), activation='relu', input_shape=(32,32,1), name='conv1'))\n",
    "    model.add(tf.keras.layers.MaxPooling2D(pool_size=(2, 2), name='pool1'))\n",
    "    model.add(tf.keras.layers.Flatten(name='flatten'))\n",
    "    model.add(tf.keras.layers.Dense(100, activation='relu', name='fc1'))\n",
    "    model.add(tf.keras.layers.Dense(n, activation='softmax', name='output'))\n",
    "    return model"
   ]
  },
  {
   "cell_type": "code",
   "execution_count": null,
   "metadata": {},
   "outputs": [],
   "source": [
    "gender_CNN_model = create_CNN_model(2)\n",
    "gender_CNN_model.compile(optimizer='sgd', loss='categorical_crossentropy', metrics=['accuracy'])\n",
    "\n",
    "print(gender_CNN_model.summary())\n",
    "\n",
    "logdir = os.path.join(\"logs\", datetime.datetime.now().strftime(\"%Y%m%d-%H%M%S\"))\n",
    "tensorboard_callback = tf.keras.callbacks.TensorBoard(logdir, histogram_freq=1)\n",
    "\n",
    "# Train the model\n",
    "gender_CNN_model.fit(x=train_X, \n",
    "                 y=age_train_Y, \n",
    "                 epochs=100, \n",
    "                 validation_data=(test_X, age_test_Y),\n",
    "                 callbacks=[tensorboard_callback])"
   ]
  },
  {
   "cell_type": "code",
   "execution_count": null,
   "metadata": {},
   "outputs": [],
   "source": [
    "%tensorboard --logdir logs"
   ]
  },
  {
   "cell_type": "code",
   "execution_count": null,
   "metadata": {},
   "outputs": [],
   "source": [
    "age_CNN_model = create_CNN_model(9)\n",
    "age_CNN_model.compile(optimizer='sgd', loss='categorical_crossentropy', metrics=['accuracy'])\n",
    "\n",
    "print(age_CNN_model.summary())\n",
    "\n",
    "logdir = os.path.join(\"logs\", datetime.datetime.now().strftime(\"%Y%m%d-%H%M%S\"))\n",
    "tensorboard_callback = tf.keras.callbacks.TensorBoard(logdir, histogram_freq=1)\n",
    "\n",
    "# Train the model\n",
    "age_CNN_model.fit(x=train_X, \n",
    "                 y=age_train_Y, \n",
    "                 epochs=100, \n",
    "                 validation_data=(test_X, age_test_Y),\n",
    "                 callbacks=[tensorboard_callback])"
   ]
  },
  {
   "cell_type": "code",
   "execution_count": null,
   "metadata": {},
   "outputs": [],
   "source": [
    "%tensorboard --logdir logs"
   ]
  },
  {
   "attachments": {},
   "cell_type": "markdown",
   "metadata": {},
   "source": [
    "## 3: Larger Convolutional Neural Network"
   ]
  },
  {
   "cell_type": "code",
   "execution_count": null,
   "metadata": {},
   "outputs": [],
   "source": [
    "def create_custom_CNN_model(n):\n",
    "    model = tf.keras.Sequential()\n",
    "    model.add(tf.keras.layers.Conv2D(40, kernel_size=(7, 7), activation='relu', input_shape=(32,32,1), name='conv1'))\n",
    "    model.add(tf.keras.layers.Conv2D(80, kernel_size=(5, 5), activation='relu', name='conv2'))\n",
    "    model.add(tf.keras.layers.MaxPooling2D(pool_size=(2, 2), name='pool1'))\n",
    "    model.add(tf.keras.layers.Flatten(name='flatten'))\n",
    "    model.add(tf.keras.layers.Dense(100, activation='relu', name='fc1'))\n",
    "    model.add(tf.keras.layers.Dense(n, activation='softmax', name='output'))\n",
    "    return model"
   ]
  },
  {
   "attachments": {},
   "cell_type": "markdown",
   "metadata": {},
   "source": [
    "## 4: Combined Model"
   ]
  },
  {
   "cell_type": "code",
   "execution_count": 13,
   "metadata": {},
   "outputs": [],
   "source": [
    "def create_combined_model():\n",
    "    input = tf.keras.layers.Input(shape=(32, 32, 1))\n",
    "    conv1 = tf.keras.layers.Conv2D(40, kernel_size=(7, 7), activation='relu', name='conv1')(input)\n",
    "    conv2 = tf.keras.layers.Conv2D(80, kernel_size=(5, 5), activation='relu', name='conv2')(conv1)\n",
    "    pool1 = tf.keras.layers.MaxPooling2D(pool_size=(2, 2), name='pool1')(conv2)\n",
    "    flatten = tf.keras.layers.Flatten()(pool1)\n",
    "\n",
    "    # Gender branch\n",
    "    gender_fc1 = tf.keras.layers.Dense(100, activation='relu')(flatten)\n",
    "    gender_output = tf.keras.layers.Dense(2, activation='softmax')(gender_fc1)\n",
    "\n",
    "    # Age branch\n",
    "    age_fc1 = tf.keras.layers.Dense(100, activation='relu')(flatten)\n",
    "    age_output = tf.keras.layers.Dense(9, activation='softmax')(age_fc1)\n",
    "\n",
    "    return tf.keras.Model(inputs=input, outputs=[gender_output, age_output])"
   ]
  },
  {
   "cell_type": "code",
   "execution_count": 15,
   "metadata": {},
   "outputs": [
    {
     "name": "stdout",
     "output_type": "stream",
     "text": [
      "Model: \"model_1\"\n",
      "__________________________________________________________________________________________________\n",
      " Layer (type)                   Output Shape         Param #     Connected to                     \n",
      "==================================================================================================\n",
      " input_4 (InputLayer)           [(None, 32, 32, 1)]  0           []                               \n",
      "                                                                                                  \n",
      " conv1 (Conv2D)                 (None, 26, 26, 40)   2000        ['input_4[0][0]']                \n",
      "                                                                                                  \n",
      " conv2 (Conv2D)                 (None, 22, 22, 80)   80080       ['conv1[0][0]']                  \n",
      "                                                                                                  \n",
      " pool1 (MaxPooling2D)           (None, 11, 11, 80)   0           ['conv2[0][0]']                  \n",
      "                                                                                                  \n",
      " flatten_3 (Flatten)            (None, 9680)         0           ['pool1[0][0]']                  \n",
      "                                                                                                  \n",
      " dense_12 (Dense)               (None, 100)          968100      ['flatten_3[0][0]']              \n",
      "                                                                                                  \n",
      " dense_14 (Dense)               (None, 100)          968100      ['flatten_3[0][0]']              \n",
      "                                                                                                  \n",
      " dense_13 (Dense)               (None, 2)            202         ['dense_12[0][0]']               \n",
      "                                                                                                  \n",
      " dense_15 (Dense)               (None, 9)            909         ['dense_14[0][0]']               \n",
      "                                                                                                  \n",
      "==================================================================================================\n",
      "Total params: 2,019,391\n",
      "Trainable params: 2,019,391\n",
      "Non-trainable params: 0\n",
      "__________________________________________________________________________________________________\n"
     ]
    }
   ],
   "source": [
    "combined_model = create_combined_model()\n",
    "combined_model.compile(optimizer='sgd', loss=['categorical_crossentropy', 'categorical_crossentropy'], metrics=['accuracy'])\n",
    "combined_model.summary()"
   ]
  },
  {
   "cell_type": "code",
   "execution_count": null,
   "metadata": {},
   "outputs": [],
   "source": []
  }
 ],
 "metadata": {
  "kernelspec": {
   "display_name": "py38",
   "language": "python",
   "name": "python3"
  },
  "language_info": {
   "codemirror_mode": {
    "name": "ipython",
    "version": 3
   },
   "file_extension": ".py",
   "mimetype": "text/x-python",
   "name": "python",
   "nbconvert_exporter": "python",
   "pygments_lexer": "ipython3",
   "version": "3.8.16"
  },
  "orig_nbformat": 4
 },
 "nbformat": 4,
 "nbformat_minor": 2
}
