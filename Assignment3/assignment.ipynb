{
 "cells": [
  {
   "cell_type": "code",
   "execution_count": 3,
   "metadata": {},
   "outputs": [
    {
     "name": "stderr",
     "output_type": "stream",
     "text": [
      "2023-03-30 11:02:14.498592: I tensorflow/core/platform/cpu_feature_guard.cc:193] This TensorFlow binary is optimized with oneAPI Deep Neural Network Library (oneDNN) to use the following CPU instructions in performance-critical operations:  SSE4.1 SSE4.2 AVX AVX2 FMA\n",
      "To enable them in other operations, rebuild TensorFlow with the appropriate compiler flags.\n"
     ]
    }
   ],
   "source": [
    "import tensorflow as tf\n",
    "import datetime, os\n",
    "import numpy as np\n",
    "import pandas as pd\n",
    "from PIL import Image\n",
    "import matplotlib.pyplot as plt\n",
    "import seaborn as sns\n",
    "from sklearn.metrics import confusion_matrix"
   ]
  },
  {
   "cell_type": "code",
   "execution_count": 4,
   "metadata": {},
   "outputs": [],
   "source": [
    "# Load the TensorBoard notebook extension\n",
    "%load_ext tensorboard"
   ]
  },
  {
   "cell_type": "code",
   "execution_count": 5,
   "metadata": {},
   "outputs": [],
   "source": [
    "def get_image(fp):\n",
    "    \"\"\"\n",
    "    return the 32x32 greyscale array\n",
    "    \"\"\"\n",
    "    img = Image.open(fp)\n",
    "    return np.asarray(img)\n"
   ]
  },
  {
   "cell_type": "code",
   "execution_count": 6,
   "metadata": {},
   "outputs": [],
   "source": [
    "# Create train and test data from csvs in train and test folders\n",
    "train_data = pd.read_csv('fairface_label_train.csv')[:10000]\n",
    "test_data = pd.read_csv('fairface_label_train.csv')[:1000]\n",
    "\n",
    "# Replace the file column with the actual images using get_image function\n",
    "train_X = np.array([get_image(fp).flatten() for fp in train_data['file']])\n",
    "test_X = np.array([get_image(fp).flatten() for fp in test_data['file']])\n",
    "\n",
    "# Get the labels, 0 for Male and 1 for Female\n",
    "gender_train_Y = np.array([(0,1) if x == 'Female' else (1,0) for x in train_data['gender']])\n",
    "gender_test_Y = np.array([(0,1) if x == 'Female' else (1,0) for x in test_data['gender']])\n",
    "\n",
    "\n",
    "# Get the labels\n",
    "age_train_Y = np.array([np.zeros(9) for x in train_data['age']])\n",
    "age_test_Y = np.array([np.zeros(9) for x in test_data['age']])\n",
    "\n",
    "age_dict = {\n",
    "    '0-2': 0,\n",
    "    '3-9': 1,\n",
    "    '10-19': 2,\n",
    "    '20-29': 3,\n",
    "    '30-39': 4,\n",
    "    '40-49': 5,\n",
    "    '50-59': 6,\n",
    "    '60-69': 7,\n",
    "    'more than 70': 8\n",
    "}\n",
    "\n",
    "for i, age in enumerate(train_data['age']):\n",
    "    age_train_Y[i][age_dict[age]] = 1\n",
    "\n",
    "for i, age in enumerate(test_data['age']):\n",
    "    age_test_Y[i][age_dict[age]] = 1\n",
    "\n",
    "\n",
    "# Min max normalize the data\n",
    "max_val = np.max(train_X)\n",
    "min_val = np.min(train_X)\n",
    "train_X = (train_X - min_val) / (max_val - min_val)\n",
    "test_X = (test_X - min_val) / (max_val - min_val)\n",
    "\n"
   ]
  },
  {
   "attachments": {},
   "cell_type": "markdown",
   "metadata": {},
   "source": [
    "## 1: Fully Connected Neural Network"
   ]
  },
  {
   "cell_type": "code",
   "execution_count": 7,
   "metadata": {},
   "outputs": [],
   "source": [
    "# Feed forward network with:\n",
    "    # 1024 neurors with tanh act\n",
    "    # 512 neurons with sig act\n",
    "    # 100 neurons with relu act\n",
    "    # n neurons with softmax act\n",
    "def create_model(n):\n",
    "    model = tf.keras.Sequential()\n",
    "    model.add(tf.keras.layers.Dense(1024, input_shape=(1024,), activation='tanh', name='fc1'))\n",
    "    model.add(tf.keras.layers.Dense(512, activation='sigmoid', name='fc2'))\n",
    "    model.add(tf.keras.layers.Dense(100, activation='relu', name='fc3'))\n",
    "    model.add(tf.keras.layers.Dense(n, activation='softmax', name='output'))\n",
    "    return model"
   ]
  },
  {
   "attachments": {},
   "cell_type": "markdown",
   "metadata": {},
   "source": [
    "### 1.1 Gender Classification"
   ]
  },
  {
   "cell_type": "code",
   "execution_count": 12,
   "metadata": {},
   "outputs": [
    {
     "name": "stdout",
     "output_type": "stream",
     "text": [
      "Model: \"sequential_2\"\n",
      "_________________________________________________________________\n",
      " Layer (type)                Output Shape              Param #   \n",
      "=================================================================\n",
      " fc1 (Dense)                 (None, 1024)              1049600   \n",
      "                                                                 \n",
      " fc2 (Dense)                 (None, 512)               524800    \n",
      "                                                                 \n",
      " fc3 (Dense)                 (None, 100)               51300     \n",
      "                                                                 \n",
      " output (Dense)              (None, 2)                 202       \n",
      "                                                                 \n",
      "=================================================================\n",
      "Total params: 1,625,902\n",
      "Trainable params: 1,625,902\n",
      "Non-trainable params: 0\n",
      "_________________________________________________________________\n",
      "None\n",
      "Epoch 1/100\n",
      "313/313 [==============================] - 3s 7ms/step - loss: 0.6814 - accuracy: 0.5662 - val_loss: 0.6821 - val_accuracy: 0.5660\n",
      "Epoch 2/100\n",
      "313/313 [==============================] - 2s 6ms/step - loss: 0.6668 - accuracy: 0.5951 - val_loss: 0.6573 - val_accuracy: 0.6100\n",
      "Epoch 3/100\n",
      "313/313 [==============================] - 2s 6ms/step - loss: 0.6625 - accuracy: 0.6019 - val_loss: 0.6961 - val_accuracy: 0.5320\n",
      "Epoch 4/100\n",
      "313/313 [==============================] - 2s 7ms/step - loss: 0.6581 - accuracy: 0.6123 - val_loss: 0.6561 - val_accuracy: 0.5930\n",
      "Epoch 5/100\n",
      "313/313 [==============================] - 2s 7ms/step - loss: 0.6536 - accuracy: 0.6171 - val_loss: 0.6739 - val_accuracy: 0.5950\n",
      "Epoch 6/100\n",
      "313/313 [==============================] - 2s 7ms/step - loss: 0.6520 - accuracy: 0.6186 - val_loss: 0.6440 - val_accuracy: 0.6140\n",
      "Epoch 7/100\n",
      " 58/313 [====>.........................] - ETA: 1s - loss: 0.6425 - accuracy: 0.6336"
     ]
    },
    {
     "ename": "KeyboardInterrupt",
     "evalue": "",
     "output_type": "error",
     "traceback": [
      "\u001b[0;31m---------------------------------------------------------------------------\u001b[0m",
      "\u001b[0;31mKeyboardInterrupt\u001b[0m                         Traceback (most recent call last)",
      "Cell \u001b[0;32mIn[12], line 10\u001b[0m\n\u001b[1;32m      7\u001b[0m tensorboard_callback \u001b[39m=\u001b[39m tf\u001b[39m.\u001b[39mkeras\u001b[39m.\u001b[39mcallbacks\u001b[39m.\u001b[39mTensorBoard(logdir, histogram_freq\u001b[39m=\u001b[39m\u001b[39m1\u001b[39m)\n\u001b[1;32m      9\u001b[0m \u001b[39m# Train the model\u001b[39;00m\n\u001b[0;32m---> 10\u001b[0m gender_model\u001b[39m.\u001b[39;49mfit(x\u001b[39m=\u001b[39;49mtrain_X, \n\u001b[1;32m     11\u001b[0m                  y\u001b[39m=\u001b[39;49mgender_train_Y, \n\u001b[1;32m     12\u001b[0m                  epochs\u001b[39m=\u001b[39;49m\u001b[39m100\u001b[39;49m, \n\u001b[1;32m     13\u001b[0m                  validation_data\u001b[39m=\u001b[39;49m(test_X, gender_test_Y),\n\u001b[1;32m     14\u001b[0m                  callbacks\u001b[39m=\u001b[39;49m[tensorboard_callback])\n\u001b[1;32m     16\u001b[0m \u001b[39m# Create a heatmap confusion matrix\u001b[39;00m\n\u001b[1;32m     17\u001b[0m y_pred \u001b[39m=\u001b[39m gender_model\u001b[39m.\u001b[39mpredict(test_X)\n",
      "File \u001b[0;32m~/opt/miniconda3/envs/py38/lib/python3.8/site-packages/keras/utils/traceback_utils.py:65\u001b[0m, in \u001b[0;36mfilter_traceback.<locals>.error_handler\u001b[0;34m(*args, **kwargs)\u001b[0m\n\u001b[1;32m     63\u001b[0m filtered_tb \u001b[39m=\u001b[39m \u001b[39mNone\u001b[39;00m\n\u001b[1;32m     64\u001b[0m \u001b[39mtry\u001b[39;00m:\n\u001b[0;32m---> 65\u001b[0m     \u001b[39mreturn\u001b[39;00m fn(\u001b[39m*\u001b[39;49margs, \u001b[39m*\u001b[39;49m\u001b[39m*\u001b[39;49mkwargs)\n\u001b[1;32m     66\u001b[0m \u001b[39mexcept\u001b[39;00m \u001b[39mException\u001b[39;00m \u001b[39mas\u001b[39;00m e:\n\u001b[1;32m     67\u001b[0m     filtered_tb \u001b[39m=\u001b[39m _process_traceback_frames(e\u001b[39m.\u001b[39m__traceback__)\n",
      "File \u001b[0;32m~/opt/miniconda3/envs/py38/lib/python3.8/site-packages/keras/engine/training.py:1650\u001b[0m, in \u001b[0;36mModel.fit\u001b[0;34m(self, x, y, batch_size, epochs, verbose, callbacks, validation_split, validation_data, shuffle, class_weight, sample_weight, initial_epoch, steps_per_epoch, validation_steps, validation_batch_size, validation_freq, max_queue_size, workers, use_multiprocessing)\u001b[0m\n\u001b[1;32m   1642\u001b[0m \u001b[39mwith\u001b[39;00m tf\u001b[39m.\u001b[39mprofiler\u001b[39m.\u001b[39mexperimental\u001b[39m.\u001b[39mTrace(\n\u001b[1;32m   1643\u001b[0m     \u001b[39m\"\u001b[39m\u001b[39mtrain\u001b[39m\u001b[39m\"\u001b[39m,\n\u001b[1;32m   1644\u001b[0m     epoch_num\u001b[39m=\u001b[39mepoch,\n\u001b[0;32m   (...)\u001b[0m\n\u001b[1;32m   1647\u001b[0m     _r\u001b[39m=\u001b[39m\u001b[39m1\u001b[39m,\n\u001b[1;32m   1648\u001b[0m ):\n\u001b[1;32m   1649\u001b[0m     callbacks\u001b[39m.\u001b[39mon_train_batch_begin(step)\n\u001b[0;32m-> 1650\u001b[0m     tmp_logs \u001b[39m=\u001b[39m \u001b[39mself\u001b[39;49m\u001b[39m.\u001b[39;49mtrain_function(iterator)\n\u001b[1;32m   1651\u001b[0m     \u001b[39mif\u001b[39;00m data_handler\u001b[39m.\u001b[39mshould_sync:\n\u001b[1;32m   1652\u001b[0m         context\u001b[39m.\u001b[39masync_wait()\n",
      "File \u001b[0;32m~/opt/miniconda3/envs/py38/lib/python3.8/site-packages/tensorflow/python/util/traceback_utils.py:150\u001b[0m, in \u001b[0;36mfilter_traceback.<locals>.error_handler\u001b[0;34m(*args, **kwargs)\u001b[0m\n\u001b[1;32m    148\u001b[0m filtered_tb \u001b[39m=\u001b[39m \u001b[39mNone\u001b[39;00m\n\u001b[1;32m    149\u001b[0m \u001b[39mtry\u001b[39;00m:\n\u001b[0;32m--> 150\u001b[0m   \u001b[39mreturn\u001b[39;00m fn(\u001b[39m*\u001b[39;49margs, \u001b[39m*\u001b[39;49m\u001b[39m*\u001b[39;49mkwargs)\n\u001b[1;32m    151\u001b[0m \u001b[39mexcept\u001b[39;00m \u001b[39mException\u001b[39;00m \u001b[39mas\u001b[39;00m e:\n\u001b[1;32m    152\u001b[0m   filtered_tb \u001b[39m=\u001b[39m _process_traceback_frames(e\u001b[39m.\u001b[39m__traceback__)\n",
      "File \u001b[0;32m~/opt/miniconda3/envs/py38/lib/python3.8/site-packages/tensorflow/python/eager/polymorphic_function/polymorphic_function.py:880\u001b[0m, in \u001b[0;36mFunction.__call__\u001b[0;34m(self, *args, **kwds)\u001b[0m\n\u001b[1;32m    877\u001b[0m compiler \u001b[39m=\u001b[39m \u001b[39m\"\u001b[39m\u001b[39mxla\u001b[39m\u001b[39m\"\u001b[39m \u001b[39mif\u001b[39;00m \u001b[39mself\u001b[39m\u001b[39m.\u001b[39m_jit_compile \u001b[39melse\u001b[39;00m \u001b[39m\"\u001b[39m\u001b[39mnonXla\u001b[39m\u001b[39m\"\u001b[39m\n\u001b[1;32m    879\u001b[0m \u001b[39mwith\u001b[39;00m OptionalXlaContext(\u001b[39mself\u001b[39m\u001b[39m.\u001b[39m_jit_compile):\n\u001b[0;32m--> 880\u001b[0m   result \u001b[39m=\u001b[39m \u001b[39mself\u001b[39;49m\u001b[39m.\u001b[39;49m_call(\u001b[39m*\u001b[39;49margs, \u001b[39m*\u001b[39;49m\u001b[39m*\u001b[39;49mkwds)\n\u001b[1;32m    882\u001b[0m new_tracing_count \u001b[39m=\u001b[39m \u001b[39mself\u001b[39m\u001b[39m.\u001b[39mexperimental_get_tracing_count()\n\u001b[1;32m    883\u001b[0m without_tracing \u001b[39m=\u001b[39m (tracing_count \u001b[39m==\u001b[39m new_tracing_count)\n",
      "File \u001b[0;32m~/opt/miniconda3/envs/py38/lib/python3.8/site-packages/tensorflow/python/eager/polymorphic_function/polymorphic_function.py:912\u001b[0m, in \u001b[0;36mFunction._call\u001b[0;34m(self, *args, **kwds)\u001b[0m\n\u001b[1;32m    909\u001b[0m   \u001b[39mself\u001b[39m\u001b[39m.\u001b[39m_lock\u001b[39m.\u001b[39mrelease()\n\u001b[1;32m    910\u001b[0m   \u001b[39m# In this case we have created variables on the first call, so we run the\u001b[39;00m\n\u001b[1;32m    911\u001b[0m   \u001b[39m# defunned version which is guaranteed to never create variables.\u001b[39;00m\n\u001b[0;32m--> 912\u001b[0m   \u001b[39mreturn\u001b[39;00m \u001b[39mself\u001b[39;49m\u001b[39m.\u001b[39;49m_no_variable_creation_fn(\u001b[39m*\u001b[39;49margs, \u001b[39m*\u001b[39;49m\u001b[39m*\u001b[39;49mkwds)  \u001b[39m# pylint: disable=not-callable\u001b[39;00m\n\u001b[1;32m    913\u001b[0m \u001b[39melif\u001b[39;00m \u001b[39mself\u001b[39m\u001b[39m.\u001b[39m_variable_creation_fn \u001b[39mis\u001b[39;00m \u001b[39mnot\u001b[39;00m \u001b[39mNone\u001b[39;00m:\n\u001b[1;32m    914\u001b[0m   \u001b[39m# Release the lock early so that multiple threads can perform the call\u001b[39;00m\n\u001b[1;32m    915\u001b[0m   \u001b[39m# in parallel.\u001b[39;00m\n\u001b[1;32m    916\u001b[0m   \u001b[39mself\u001b[39m\u001b[39m.\u001b[39m_lock\u001b[39m.\u001b[39mrelease()\n",
      "File \u001b[0;32m~/opt/miniconda3/envs/py38/lib/python3.8/site-packages/tensorflow/python/eager/polymorphic_function/tracing_compiler.py:134\u001b[0m, in \u001b[0;36mTracingCompiler.__call__\u001b[0;34m(self, *args, **kwargs)\u001b[0m\n\u001b[1;32m    131\u001b[0m \u001b[39mwith\u001b[39;00m \u001b[39mself\u001b[39m\u001b[39m.\u001b[39m_lock:\n\u001b[1;32m    132\u001b[0m   (concrete_function,\n\u001b[1;32m    133\u001b[0m    filtered_flat_args) \u001b[39m=\u001b[39m \u001b[39mself\u001b[39m\u001b[39m.\u001b[39m_maybe_define_function(args, kwargs)\n\u001b[0;32m--> 134\u001b[0m \u001b[39mreturn\u001b[39;00m concrete_function\u001b[39m.\u001b[39;49m_call_flat(\n\u001b[1;32m    135\u001b[0m     filtered_flat_args, captured_inputs\u001b[39m=\u001b[39;49mconcrete_function\u001b[39m.\u001b[39;49mcaptured_inputs)\n",
      "File \u001b[0;32m~/opt/miniconda3/envs/py38/lib/python3.8/site-packages/tensorflow/python/eager/polymorphic_function/monomorphic_function.py:1745\u001b[0m, in \u001b[0;36mConcreteFunction._call_flat\u001b[0;34m(self, args, captured_inputs, cancellation_manager)\u001b[0m\n\u001b[1;32m   1741\u001b[0m possible_gradient_type \u001b[39m=\u001b[39m gradients_util\u001b[39m.\u001b[39mPossibleTapeGradientTypes(args)\n\u001b[1;32m   1742\u001b[0m \u001b[39mif\u001b[39;00m (possible_gradient_type \u001b[39m==\u001b[39m gradients_util\u001b[39m.\u001b[39mPOSSIBLE_GRADIENT_TYPES_NONE\n\u001b[1;32m   1743\u001b[0m     \u001b[39mand\u001b[39;00m executing_eagerly):\n\u001b[1;32m   1744\u001b[0m   \u001b[39m# No tape is watching; skip to running the function.\u001b[39;00m\n\u001b[0;32m-> 1745\u001b[0m   \u001b[39mreturn\u001b[39;00m \u001b[39mself\u001b[39m\u001b[39m.\u001b[39m_build_call_outputs(\u001b[39mself\u001b[39;49m\u001b[39m.\u001b[39;49m_inference_function\u001b[39m.\u001b[39;49mcall(\n\u001b[1;32m   1746\u001b[0m       ctx, args, cancellation_manager\u001b[39m=\u001b[39;49mcancellation_manager))\n\u001b[1;32m   1747\u001b[0m forward_backward \u001b[39m=\u001b[39m \u001b[39mself\u001b[39m\u001b[39m.\u001b[39m_select_forward_and_backward_functions(\n\u001b[1;32m   1748\u001b[0m     args,\n\u001b[1;32m   1749\u001b[0m     possible_gradient_type,\n\u001b[1;32m   1750\u001b[0m     executing_eagerly)\n\u001b[1;32m   1751\u001b[0m forward_function, args_with_tangents \u001b[39m=\u001b[39m forward_backward\u001b[39m.\u001b[39mforward()\n",
      "File \u001b[0;32m~/opt/miniconda3/envs/py38/lib/python3.8/site-packages/tensorflow/python/eager/polymorphic_function/monomorphic_function.py:378\u001b[0m, in \u001b[0;36m_EagerDefinedFunction.call\u001b[0;34m(self, ctx, args, cancellation_manager)\u001b[0m\n\u001b[1;32m    376\u001b[0m \u001b[39mwith\u001b[39;00m _InterpolateFunctionError(\u001b[39mself\u001b[39m):\n\u001b[1;32m    377\u001b[0m   \u001b[39mif\u001b[39;00m cancellation_manager \u001b[39mis\u001b[39;00m \u001b[39mNone\u001b[39;00m:\n\u001b[0;32m--> 378\u001b[0m     outputs \u001b[39m=\u001b[39m execute\u001b[39m.\u001b[39;49mexecute(\n\u001b[1;32m    379\u001b[0m         \u001b[39mstr\u001b[39;49m(\u001b[39mself\u001b[39;49m\u001b[39m.\u001b[39;49msignature\u001b[39m.\u001b[39;49mname),\n\u001b[1;32m    380\u001b[0m         num_outputs\u001b[39m=\u001b[39;49m\u001b[39mself\u001b[39;49m\u001b[39m.\u001b[39;49m_num_outputs,\n\u001b[1;32m    381\u001b[0m         inputs\u001b[39m=\u001b[39;49margs,\n\u001b[1;32m    382\u001b[0m         attrs\u001b[39m=\u001b[39;49mattrs,\n\u001b[1;32m    383\u001b[0m         ctx\u001b[39m=\u001b[39;49mctx)\n\u001b[1;32m    384\u001b[0m   \u001b[39melse\u001b[39;00m:\n\u001b[1;32m    385\u001b[0m     outputs \u001b[39m=\u001b[39m execute\u001b[39m.\u001b[39mexecute_with_cancellation(\n\u001b[1;32m    386\u001b[0m         \u001b[39mstr\u001b[39m(\u001b[39mself\u001b[39m\u001b[39m.\u001b[39msignature\u001b[39m.\u001b[39mname),\n\u001b[1;32m    387\u001b[0m         num_outputs\u001b[39m=\u001b[39m\u001b[39mself\u001b[39m\u001b[39m.\u001b[39m_num_outputs,\n\u001b[0;32m   (...)\u001b[0m\n\u001b[1;32m    390\u001b[0m         ctx\u001b[39m=\u001b[39mctx,\n\u001b[1;32m    391\u001b[0m         cancellation_manager\u001b[39m=\u001b[39mcancellation_manager)\n",
      "File \u001b[0;32m~/opt/miniconda3/envs/py38/lib/python3.8/site-packages/tensorflow/python/eager/execute.py:52\u001b[0m, in \u001b[0;36mquick_execute\u001b[0;34m(op_name, num_outputs, inputs, attrs, ctx, name)\u001b[0m\n\u001b[1;32m     50\u001b[0m \u001b[39mtry\u001b[39;00m:\n\u001b[1;32m     51\u001b[0m   ctx\u001b[39m.\u001b[39mensure_initialized()\n\u001b[0;32m---> 52\u001b[0m   tensors \u001b[39m=\u001b[39m pywrap_tfe\u001b[39m.\u001b[39;49mTFE_Py_Execute(ctx\u001b[39m.\u001b[39;49m_handle, device_name, op_name,\n\u001b[1;32m     53\u001b[0m                                       inputs, attrs, num_outputs)\n\u001b[1;32m     54\u001b[0m \u001b[39mexcept\u001b[39;00m core\u001b[39m.\u001b[39m_NotOkStatusException \u001b[39mas\u001b[39;00m e:\n\u001b[1;32m     55\u001b[0m   \u001b[39mif\u001b[39;00m name \u001b[39mis\u001b[39;00m \u001b[39mnot\u001b[39;00m \u001b[39mNone\u001b[39;00m:\n",
      "\u001b[0;31mKeyboardInterrupt\u001b[0m: "
     ]
    }
   ],
   "source": [
    "gender_model = create_model(2)\n",
    "gender_model.compile(optimizer='sgd', loss='categorical_crossentropy', metrics=['accuracy'])\n",
    "\n",
    "print(gender_model.summary())\n",
    "\n",
    "logdir = os.path.join(\"logs/1.1\", datetime.datetime.now().strftime(\"%Y%m%d-%H%M%S\"))\n",
    "tensorboard_callback = tf.keras.callbacks.TensorBoard(logdir, histogram_freq=1)\n",
    "\n",
    "# Train the model\n",
    "gender_model.fit(x=train_X, \n",
    "                 y=gender_train_Y, \n",
    "                 epochs=100, \n",
    "                 validation_data=(test_X, gender_test_Y),\n",
    "                 callbacks=[tensorboard_callback])\n",
    "\n",
    "# Create a heatmap confusion matrix\n",
    "y_pred = gender_model.predict(test_X)\n",
    "y_pred = np.argmax(y_pred, axis=1)\n",
    "y_true = np.argmax(gender_test_Y, axis=1)\n",
    "\n",
    "# Print the final accuracy\n",
    "print('Accuracy: ', np.sum(y_pred == y_true) / len(y_true))\n",
    "\n",
    "cm = confusion_matrix(y_true, y_pred)\n",
    "sns.heatmap(cm, annot=True, cmap='Blues')\n",
    "plt.xlabel('Predicted labels')\n",
    "plt.ylabel('True labels')\n",
    "plt.show()\n"
   ]
  },
  {
   "attachments": {},
   "cell_type": "markdown",
   "metadata": {},
   "source": [
    "### 1.2 Age Classification"
   ]
  },
  {
   "cell_type": "code",
   "execution_count": 7,
   "metadata": {},
   "outputs": [
    {
     "name": "stdout",
     "output_type": "stream",
     "text": [
      "Model: \"sequential_1\"\n",
      "_________________________________________________________________\n",
      " Layer (type)                Output Shape              Param #   \n",
      "=================================================================\n",
      " fc1 (Dense)                 (None, 1024)              1049600   \n",
      "                                                                 \n",
      " fc2 (Dense)                 (None, 512)               524800    \n",
      "                                                                 \n",
      " fc3 (Dense)                 (None, 100)               51300     \n",
      "                                                                 \n",
      " output (Dense)              (None, 9)                 909       \n",
      "                                                                 \n",
      "=================================================================\n",
      "Total params: 1,626,609\n",
      "Trainable params: 1,626,609\n",
      "Non-trainable params: 0\n",
      "_________________________________________________________________\n",
      "None\n",
      "Epoch 1/10\n",
      "313/313 [==============================] - 3s 8ms/step - loss: 1.8772 - accuracy: 0.2793 - val_loss: 1.8638 - val_accuracy: 0.2470\n",
      "Epoch 2/10\n",
      "313/313 [==============================] - 2s 7ms/step - loss: 1.8607 - accuracy: 0.2838 - val_loss: 1.8533 - val_accuracy: 0.2710\n",
      "Epoch 3/10\n",
      "313/313 [==============================] - 3s 8ms/step - loss: 1.8498 - accuracy: 0.2869 - val_loss: 1.8508 - val_accuracy: 0.2770\n",
      "Epoch 4/10\n",
      "313/313 [==============================] - 2s 8ms/step - loss: 1.8409 - accuracy: 0.2848 - val_loss: 1.8460 - val_accuracy: 0.2700\n",
      "Epoch 5/10\n",
      "313/313 [==============================] - 2s 7ms/step - loss: 1.8322 - accuracy: 0.2916 - val_loss: 1.8289 - val_accuracy: 0.2880\n",
      "Epoch 6/10\n",
      "313/313 [==============================] - 2s 7ms/step - loss: 1.8230 - accuracy: 0.2912 - val_loss: 1.8532 - val_accuracy: 0.2920\n",
      "Epoch 7/10\n",
      "313/313 [==============================] - 2s 6ms/step - loss: 1.8151 - accuracy: 0.2975 - val_loss: 1.8200 - val_accuracy: 0.2760\n",
      "Epoch 8/10\n",
      "313/313 [==============================] - 2s 7ms/step - loss: 1.8087 - accuracy: 0.2971 - val_loss: 1.7959 - val_accuracy: 0.2900\n",
      "Epoch 9/10\n",
      "313/313 [==============================] - 2s 7ms/step - loss: 1.8005 - accuracy: 0.3034 - val_loss: 1.8132 - val_accuracy: 0.3030\n",
      "Epoch 10/10\n",
      "313/313 [==============================] - 2s 7ms/step - loss: 1.7951 - accuracy: 0.3011 - val_loss: 1.7864 - val_accuracy: 0.2980\n",
      "32/32 [==============================] - 0s 3ms/step\n"
     ]
    },
    {
     "data": {
      "image/png": "[encoded data removed]",
      "text/plain": [
       "<Figure size 640x480 with 2 Axes>"
      ]
     },
     "metadata": {},
     "output_type": "display_data"
    }
   ],
   "source": [
    "age_model = create_model(9)\n",
    "age_model.compile(optimizer='sgd', loss='categorical_crossentropy', metrics=['accuracy'])\n",
    "\n",
    "print(age_model.summary())\n",
    "\n",
    "logdir = os.path.join(\"logs/1.2\", datetime.datetime.now().strftime(\"%Y%m%d-%H%M%S\"))\n",
    "tensorboard_callback = tf.keras.callbacks.TensorBoard(logdir, histogram_freq=1)\n",
    "\n",
    "# Train the model\n",
    "age_model.fit(x=train_X, \n",
    "                 y=age_train_Y, \n",
    "                 epochs=10, \n",
    "                 validation_data=(test_X, age_test_Y),\n",
    "                 callbacks=[tensorboard_callback])\n",
    "\n",
    "# Create a heatmap confusion matrix\n",
    "y_pred = age_model.predict(test_X)\n",
    "y_pred = np.argmax(y_pred, axis=1)\n",
    "y_true = np.argmax(age_test_Y, axis=1)\n",
    "\n",
    "# Print the final accuracy\n",
    "print('Accuracy: ', np.sum(y_pred == y_true) / len(y_true))\n",
    "\n",
    "cm = confusion_matrix(y_true, y_pred)\n",
    "sns.heatmap(cm, annot=True, cmap='Blues')\n",
    "plt.xlabel('Predicted labels')\n",
    "plt.ylabel('True labels')\n",
    "plt.show()"
   ]
  },
  {
   "attachments": {},
   "cell_type": "markdown",
   "metadata": {},
   "source": [
    "## 2: Small Convolutional Neural Network"
   ]
  },
  {
   "cell_type": "code",
   "execution_count": 14,
   "metadata": {},
   "outputs": [],
   "source": [
    "\"\"\"\n",
    "Convolution layer having 40 feature detectors, with kernel size 5 x 5, and ReLU\n",
    "as the activation function, with stride 1 and no-padding.\n",
    " A max-pooling layer with pool size 2x2.\n",
    " Fully connected layer with 100 neurons, and ReLU as the activation function.\n",
    " Output layer: n (depending on the task) neurons representing the n classes, using\n",
    "the softmax activation function. function for each of the 10 neurons\n",
    "\"\"\"\n",
    "def create_CNN_model(n):\n",
    "    model = tf.keras.Sequential()\n",
    "    model.add(tf.keras.layers.Conv2D(40, kernel_size=(5, 5), activation='relu', input_shape=(32,32,1), name='conv1'))\n",
    "    model.add(tf.keras.layers.MaxPooling2D(pool_size=(2, 2), name='pool1'))\n",
    "    model.add(tf.keras.layers.Flatten(name='flatten'))\n",
    "    model.add(tf.keras.layers.Dense(100, activation='relu', name='fc1'))\n",
    "    model.add(tf.keras.layers.Dense(n, activation='softmax', name='output'))\n",
    "    return model"
   ]
  },
  {
   "attachments": {},
   "cell_type": "markdown",
   "metadata": {},
   "source": [
    "### 2.1"
   ]
  },
  {
   "cell_type": "code",
   "execution_count": null,
   "metadata": {},
   "outputs": [],
   "source": [
    "gender_CNN_model = create_CNN_model(2)\n",
    "gender_CNN_model.compile(optimizer='sgd', loss='categorical_crossentropy', metrics=['accuracy'])\n",
    "\n",
    "print(gender_CNN_model.summary())\n",
    "\n",
    "logdir = os.path.join(\"logs/2.1\", datetime.datetime.now().strftime(\"%Y%m%d-%H%M%S\"))\n",
    "tensorboard_callback = tf.keras.callbacks.TensorBoard(logdir, histogram_freq=1)\n",
    "\n",
    "# Train the model\n",
    "gender_CNN_model.fit(x=train_X, \n",
    "                 y=age_train_Y, \n",
    "                 epochs=100, \n",
    "                 validation_data=(test_X, age_test_Y),\n",
    "                 callbacks=[tensorboard_callback])\n",
    "\n",
    "# Create a heatmap confusion matrix\n",
    "y_pred = gender_model.predict(test_X)\n",
    "y_pred = np.argmax(y_pred, axis=1)\n",
    "y_true = np.argmax(gender_test_Y, axis=1)\n",
    "\n",
    "# Print the final accuracy\n",
    "print('Accuracy: ', np.sum(y_pred == y_true) / len(y_true))\n",
    "\n",
    "cm = confusion_matrix(y_true, y_pred)\n",
    "sns.heatmap(cm, annot=True, cmap='Blues')\n",
    "plt.xlabel('Predicted labels')\n",
    "plt.ylabel('True labels')\n",
    "plt.show()"
   ]
  },
  {
   "cell_type": "code",
   "execution_count": null,
   "metadata": {},
   "outputs": [],
   "source": [
    "age_CNN_model = create_CNN_model(9)\n",
    "age_CNN_model.compile(optimizer='sgd', loss='categorical_crossentropy', metrics=['accuracy'])\n",
    "\n",
    "print(age_CNN_model.summary())\n",
    "\n",
    "logdir = os.path.join(\"logs/2.2\", datetime.datetime.now().strftime(\"%Y%m%d-%H%M%S\"))\n",
    "tensorboard_callback = tf.keras.callbacks.TensorBoard(logdir, histogram_freq=1)\n",
    "\n",
    "# Train the model\n",
    "age_CNN_model.fit(x=train_X, \n",
    "                 y=age_train_Y, \n",
    "                 epochs=100, \n",
    "                 validation_data=(test_X, age_test_Y),\n",
    "                 callbacks=[tensorboard_callback])\n",
    "\n",
    "# Create a heatmap confusion matrix\n",
    "y_pred = gender_model.predict(test_X)\n",
    "y_pred = np.argmax(y_pred, axis=1)\n",
    "y_true = np.argmax(gender_test_Y, axis=1)\n",
    "\n",
    "# Print the final accuracy\n",
    "print('Accuracy: ', np.sum(y_pred == y_true) / len(y_true))\n",
    "\n",
    "cm = confusion_matrix(y_true, y_pred)\n",
    "sns.heatmap(cm, annot=True, cmap='Blues')\n",
    "plt.xlabel('Predicted labels')\n",
    "plt.ylabel('True labels')\n",
    "plt.show()"
   ]
  },
  {
   "attachments": {},
   "cell_type": "markdown",
   "metadata": {},
   "source": [
    "## 3: Larger Convolutional Neural Network"
   ]
  },
  {
   "cell_type": "code",
   "execution_count": null,
   "metadata": {},
   "outputs": [],
   "source": [
    "def create_custom_CNN_model(n):\n",
    "    model = tf.keras.Sequential()\n",
    "    model.add(tf.keras.layers.Conv2D(40, kernel_size=(7, 7), activation='relu', input_shape=(32,32,1), name='conv1'))\n",
    "    model.add(tf.keras.layers.Conv2D(80, kernel_size=(5, 5), activation='relu', name='conv2'))\n",
    "    model.add(tf.keras.layers.MaxPooling2D(pool_size=(2, 2), name='pool1'))\n",
    "    model.add(tf.keras.layers.Flatten(name='flatten'))\n",
    "    model.add(tf.keras.layers.Dense(100, activation='relu', name='fc1'))\n",
    "    model.add(tf.keras.layers.Dense(n, activation='softmax', name='output'))\n",
    "    return model"
   ]
  },
  {
   "cell_type": "code",
   "execution_count": null,
   "metadata": {},
   "outputs": [],
   "source": [
    "gender_large_CNN_model = create_CNN_model(2)\n",
    "gender_large_CNN_model.compile(optimizer='sgd', loss='categorical_crossentropy', metrics=['accuracy'])\n",
    "\n",
    "print(gender_large_CNN_model.summary())\n",
    "\n",
    "logdir = os.path.join(\"logs/3.1\", datetime.datetime.now().strftime(\"%Y%m%d-%H%M%S\"))\n",
    "tensorboard_callback = tf.keras.callbacks.TensorBoard(logdir, histogram_freq=1)\n",
    "\n",
    "# Train the model\n",
    "gender_large_CNN_model.fit(x=train_X, \n",
    "                 y=age_train_Y, \n",
    "                 epochs=100, \n",
    "                 validation_data=(test_X, age_test_Y),\n",
    "                 callbacks=[tensorboard_callback])\n",
    "\n",
    "# Create a heatmap confusion matrix\n",
    "y_pred = gender_model.predict(test_X)\n",
    "y_pred = np.argmax(y_pred, axis=1)\n",
    "y_true = np.argmax(gender_test_Y, axis=1)\n",
    "\n",
    "# Print the final accuracy\n",
    "print('Accuracy: ', np.sum(y_pred == y_true) / len(y_true))\n",
    "\n",
    "cm = confusion_matrix(y_true, y_pred)\n",
    "sns.heatmap(cm, annot=True, cmap='Blues')\n",
    "plt.xlabel('Predicted labels')\n",
    "plt.ylabel('True labels')\n",
    "plt.show()"
   ]
  },
  {
   "attachments": {},
   "cell_type": "markdown",
   "metadata": {},
   "source": [
    "## 4: Combined Model"
   ]
  },
  {
   "cell_type": "code",
   "execution_count": 13,
   "metadata": {},
   "outputs": [],
   "source": [
    "def create_combined_model():\n",
    "    input = tf.keras.layers.Input(shape=(32, 32, 1))\n",
    "    conv1 = tf.keras.layers.Conv2D(40, kernel_size=(7, 7), activation='relu', name='conv1')(input)\n",
    "    conv2 = tf.keras.layers.Conv2D(80, kernel_size=(5, 5), activation='relu', name='conv2')(conv1)\n",
    "    pool1 = tf.keras.layers.MaxPooling2D(pool_size=(2, 2), name='pool1')(conv2)\n",
    "    flatten = tf.keras.layers.Flatten()(pool1)\n",
    "\n",
    "    # Gender branch\n",
    "    gender_fc1 = tf.keras.layers.Dense(100, activation='relu')(flatten)\n",
    "    gender_output = tf.keras.layers.Dense(2, activation='softmax')(gender_fc1)\n",
    "\n",
    "    # Age branch\n",
    "    age_fc1 = tf.keras.layers.Dense(100, activation='relu')(flatten)\n",
    "    age_output = tf.keras.layers.Dense(9, activation='softmax')(age_fc1)\n",
    "\n",
    "    return tf.keras.Model(inputs=input, outputs=[gender_output, age_output])"
   ]
  },
  {
   "cell_type": "code",
   "execution_count": 15,
   "metadata": {},
   "outputs": [
    {
     "name": "stdout",
     "output_type": "stream",
     "text": [
      "Model: \"model_1\"\n",
      "__________________________________________________________________________________________________\n",
      " Layer (type)                   Output Shape         Param #     Connected to                     \n",
      "==================================================================================================\n",
      " input_4 (InputLayer)           [(None, 32, 32, 1)]  0           []                               \n",
      "                                                                                                  \n",
      " conv1 (Conv2D)                 (None, 26, 26, 40)   2000        ['input_4[0][0]']                \n",
      "                                                                                                  \n",
      " conv2 (Conv2D)                 (None, 22, 22, 80)   80080       ['conv1[0][0]']                  \n",
      "                                                                                                  \n",
      " pool1 (MaxPooling2D)           (None, 11, 11, 80)   0           ['conv2[0][0]']                  \n",
      "                                                                                                  \n",
      " flatten_3 (Flatten)            (None, 9680)         0           ['pool1[0][0]']                  \n",
      "                                                                                                  \n",
      " dense_12 (Dense)               (None, 100)          968100      ['flatten_3[0][0]']              \n",
      "                                                                                                  \n",
      " dense_14 (Dense)               (None, 100)          968100      ['flatten_3[0][0]']              \n",
      "                                                                                                  \n",
      " dense_13 (Dense)               (None, 2)            202         ['dense_12[0][0]']               \n",
      "                                                                                                  \n",
      " dense_15 (Dense)               (None, 9)            909         ['dense_14[0][0]']               \n",
      "                                                                                                  \n",
      "==================================================================================================\n",
      "Total params: 2,019,391\n",
      "Trainable params: 2,019,391\n",
      "Non-trainable params: 0\n",
      "__________________________________________________________________________________________________\n"
     ]
    }
   ],
   "source": [
    "combined_model = create_combined_model()\n",
    "combined_model.compile(optimizer='sgd', loss=['categorical_crossentropy', 'categorical_crossentropy'], metrics=['accuracy'])\n",
    "combined_model.summary()\n",
    "\n",
    "logdir = os.path.join(\"logs/4\", datetime.datetime.now().strftime(\"%Y%m%d-%H%M%S\"))\n",
    "tensorboard_callback = tf.keras.callbacks.TensorBoard(logdir, histogram_freq=1)\n",
    "\n",
    "# Train the model\n",
    "combined_model.fit(x=train_X, \n",
    "                 y=age_train_Y, \n",
    "                 epochs=100, \n",
    "                 validation_data=(test_X, age_test_Y),\n",
    "                 callbacks=[tensorboard_callback])\n",
    "\n",
    "# Create a heatmap confusion matrix\n",
    "y_pred = gender_model.predict(test_X)\n",
    "y_pred = np.argmax(y_pred, axis=1)\n",
    "y_true = np.argmax(gender_test_Y, axis=1)\n",
    "\n",
    "# Print the final accuracy\n",
    "print('Accuracy: ', np.sum(y_pred == y_true) / len(y_true))\n",
    "\n",
    "cm = confusion_matrix(y_true, y_pred)\n",
    "sns.heatmap(cm, annot=True, cmap='Blues')\n",
    "plt.xlabel('Predicted labels')\n",
    "plt.ylabel('True labels')\n",
    "plt.show()"
   ]
  },
  {
   "cell_type": "code",
   "execution_count": null,
   "metadata": {},
   "outputs": [],
   "source": []
  }
 ],
 "metadata": {
  "kernelspec": {
   "display_name": "py38",
   "language": "python",
   "name": "python3"
  },
  "language_info": {
   "codemirror_mode": {
    "name": "ipython",
    "version": 3
   },
   "file_extension": ".py",
   "mimetype": "text/x-python",
   "name": "python",
   "nbconvert_exporter": "python",
   "pygments_lexer": "ipython3",
   "version": "3.8.16"
  },
  "orig_nbformat": 4
 },
 "nbformat": 4,
 "nbformat_minor": 2
}
