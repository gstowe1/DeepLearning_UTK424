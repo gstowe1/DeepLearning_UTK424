{
 "cells": [
  {
   "cell_type": "code",
   "execution_count": 1,
   "metadata": {},
   "outputs": [],
   "source": [
    "import pandas as  pd\n",
    "import os"
   ]
  },
  {
   "cell_type": "code",
   "execution_count": null,
   "metadata": {},
   "outputs": [],
   "source": [
    "dir = \"Extracted\"\n",
    "sheet = \"Page 4 Generator Data\"\n",
    "\n",
    "\n",
    "\n",
    "for filename in os.listdir(dir):\n",
    "    if filename.endswith('.xlsx'):\n",
    "        filePath = os.path.join(dir,filename)\n",
    "        excelFile = pd.read_excel(filePath,sheet_name=sheet,header=None)\n",
    "       \n",
    "        row_index = excelFile[excelFile.iloc[:,0]=='Plant Id'].index[0]\n",
    "        excelFile.columns = excelFile.iloc[row_index]\n",
    "        excelFile.columns = [col.replace('\\n',' ') for col in excelFile.columns]\n",
    "        excelFile = excelFile.iloc[row_index+1:,:]\n",
    "\n",
    "        print(filename, row_index)\n",
    "        excelFile.to_csv('csv/'+filename.removesuffix('.xlsx')+'.csv',index=None)"
   ]
  }
 ],
 "metadata": {
  "kernelspec": {
   "display_name": "base",
   "language": "python",
   "name": "python3"
  },
  "language_info": {
   "codemirror_mode": {
    "name": "ipython",
    "version": 3
   },
   "file_extension": ".py",
   "mimetype": "text/x-python",
   "name": "python",
   "nbconvert_exporter": "python",
   "pygments_lexer": "ipython3",
   "version": "3.9.13"
  },
  "orig_nbformat": 4
 },
 "nbformat": 4,
 "nbformat_minor": 2
}
