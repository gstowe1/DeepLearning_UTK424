{
 "cells": [
  {
   "cell_type": "code",
   "execution_count": 10,
   "metadata": {},
   "outputs": [],
   "source": [
    "import pandas as  pd\n",
    "import os\n",
    "from itertools import chain"
   ]
  },
  {
   "attachments": {},
   "cell_type": "markdown",
   "metadata": {},
   "source": [
    "# Extract from downloaded files into identical csv format"
   ]
  },
  {
   "cell_type": "code",
   "execution_count": null,
   "metadata": {},
   "outputs": [],
   "source": [
    "dir = \"Extracted\"\n",
    "sheet = \"Page 4 Generator Data\"\n",
    "\n",
    "\n",
    "\n",
    "for filename in os.listdir(dir):\n",
    "    if filename.endswith('.xlsx'):\n",
    "        filePath = os.path.join(dir,filename)\n",
    "        excelFile = pd.read_excel(filePath,sheet_name=sheet,header=None)\n",
    "       \n",
    "        row_index = excelFile[excelFile.iloc[:,0]=='Plant Id'].index[0]\n",
    "        excelFile.columns = excelFile.iloc[row_index]\n",
    "        excelFile.columns = [col.replace('\\n',' ') for col in excelFile.columns]\n",
    "        excelFile = excelFile.iloc[row_index+1:,:]\n",
    "\n",
    "        print(filename, row_index)\n",
    "        excelFile.to_csv('csv/'+filename.removesuffix('.xlsx')+'.csv',index=None)"
   ]
  },
  {
   "attachments": {},
   "cell_type": "markdown",
   "metadata": {},
   "source": [
    "# Clean up so all files are in the same format"
   ]
  },
  {
   "cell_type": "code",
   "execution_count": 83,
   "metadata": {},
   "outputs": [
    {
     "name": "stderr",
     "output_type": "stream",
     "text": [
      "/var/folders/0m/kh104v054nj9529192f5_0_00000gn/T/ipykernel_97572/192798014.py:8: DtypeWarning: Columns (5,6,7,8,9,10,11,12,13,14,15,16,18,19,20,21,22,23,24,25,26,27,28,29,42,43,44,45,46,47,48,49,50,51,52,53,54,55,56,57,58,59,60,61,62,63,64,65,66,67,68,69,70,71,72,73,74,75,76,77,78,79,80,81,82,83,84,85,86,87,88,89,90,91,92,93,94,95,96,97,98,99,100,101,102,103,104,105,106,107,108,109,110,111,112,113,114,115,116,117,118,119,120,121,122,123,124,125,126,127,128,129,130,131,132,133,134,135,136,137,138,139,140,141,142,143,144,145,146,147,148,149,162,163,164,165,166,167,168,169,170,171,172,173) have mixed types. Specify dtype option on import or set low_memory=False.\n",
      "  df = pd.read_csv(os.path.join(dir,filename))\n"
     ]
    }
   ],
   "source": [
    "# read in the csv files\n",
    "dir = \"data\"\n",
    "\n",
    "dfs = []\n",
    "columns = []\n",
    "for filename in os.listdir(dir):\n",
    "    if filename.endswith('.csv'):\n",
    "        df = pd.read_csv(os.path.join(dir,filename))\n",
    "        # remove the 'Respondent Frequency' column if it exists\n",
    "        if 'Respondent Frequency' in df.columns:\n",
    "            df = df.drop(columns=['Respondent Frequency'])\n",
    "        # remove the 'Balancing Authority Code' column if it exists\n",
    "        if 'Balancing Authority Code' in df.columns:\n",
    "            df = df.drop(columns=['Balancing Authority Code'])\n",
    "        if 'BA_CODE' in df.columns:\n",
    "            df = df.drop(columns=['BA_CODE'])\n",
    "        # Rename the Id columns to ID if it exists\n",
    "        if 'Plant ID' in df.columns:\n",
    "            df = df.rename(columns={'Plant ID':'Plant Id',\n",
    "                                    'Generator ID':'Generator Id',\n",
    "                                    'Operator ID':'Operator Id',\n",
    "                                    'Combined Heat & Power Plant':'Combined Heat And Power Plant',\n",
    "                                    'State':'Plant State',\n",
    "                                    'EIA Sector Number':'Sector Number',\n",
    "                                    'Prime Mover Type':'Reported Prime Mover'})\n",
    "        if 'EIA Sector Number' in df.columns:\n",
    "            df = df.rename(columns={'EIA Sector Number':'Sector Number'})\n",
    "        if 'Net Generation Year to Date' in df.columns:\n",
    "            df = df.rename(columns={'Net Generation Year to Date':'Net Generation Year To Date'})\n",
    "        if 'Prime Mover Type' in df.columns:\n",
    "            df = df.rename(columns={'Prime Mover Type':'Reported Prime Mover'})\n",
    "        if 'State' in df.columns:\n",
    "            df = df.rename(columns={'State':'Plant State'})\n",
    "        # resave df to csv\n",
    "        df.to_csv('data/'+filename,index=None)\n",
    "\n",
    "        "
   ]
  },
  {
   "attachments": {},
   "cell_type": "markdown",
   "metadata": {},
   "source": [
    "# Create time series of each generator's output"
   ]
  },
  {
   "cell_type": "code",
   "execution_count": 84,
   "metadata": {},
   "outputs": [
    {
     "name": "stdout",
     "output_type": "stream",
     "text": [
      "2020.csv (3844, 17)\n",
      "Index(['Operator Id', 'Census Region', 'NERC Region', 'Sector Name', '1-2020',\n",
      "       '2-2020', '3-2020', '4-2020', '5-2020', '6-2020', '7-2020', '8-2020',\n",
      "       '9-2020', '10-2020', '11-2020', '12-2020',\n",
      "       'Net Generation Year To Date'],\n",
      "      dtype='object')\n",
      "2021.csv (3775, 17)\n",
      "Index(['Operator Id', 'Census Region', 'NERC Region', 'Sector Name', '1-2021',\n",
      "       '2-2021', '3-2021', '4-2021', '5-2021', '6-2021', '7-2021', '8-2021',\n",
      "       '9-2021', '10-2021', '11-2021', '12-2021',\n",
      "       'Net Generation Year To Date'],\n",
      "      dtype='object')\n",
      "2009.csv (2938, 17)\n",
      "Index(['Operator Id', 'Census Region', 'NERC Region', 'Sector Name', '1-2009',\n",
      "       '2-2009', '3-2009', '4-2009', '5-2009', '6-2009', '7-2009', '8-2009',\n",
      "       '9-2009', '10-2009', '11-2009', '12-2009',\n",
      "       'Net Generation Year To Date'],\n",
      "      dtype='object')\n",
      "2022.csv (2754, 17)\n",
      "Index(['Operator Id', 'Census Region', 'NERC Region', 'Sector Name', '1-2022',\n",
      "       '2-2022', '3-2022', '4-2022', '5-2022', '6-2022', '7-2022', '8-2022',\n",
      "       '9-2022', '10-2022', '11-2022', '12-2022',\n",
      "       'Net Generation Year To Date'],\n",
      "      dtype='object')\n",
      "2019.csv (3928, 17)\n",
      "Index(['Operator Id', 'Census Region', 'NERC Region', 'Sector Name', '1-2019',\n",
      "       '2-2019', '3-2019', '4-2019', '5-2019', '6-2019', '7-2019', '8-2019',\n",
      "       '9-2019', '10-2019', '11-2019', '12-2019',\n",
      "       'Net Generation Year To Date'],\n",
      "      dtype='object')\n",
      "2018.csv (4001, 17)\n",
      "Index(['Operator Id', 'Census Region', 'NERC Region', 'Sector Name', '1-2018',\n",
      "       '2-2018', '3-2018', '4-2018', '5-2018', '6-2018', '7-2018', '8-2018',\n",
      "       '9-2018', '10-2018', '11-2018', '12-2018',\n",
      "       'Net Generation Year To Date'],\n",
      "      dtype='object')\n",
      "2015.csv (4177, 17)\n",
      "Index(['Operator Id', 'Census Region', 'NERC Region', 'Sector Name', '1-2015',\n",
      "       '2-2015', '3-2015', '4-2015', '5-2015', '6-2015', '7-2015', '8-2015',\n",
      "       '9-2015', '10-2015', '11-2015', '12-2015',\n",
      "       'Net Generation Year To Date'],\n",
      "      dtype='object')\n",
      "2014.csv (4395, 17)\n",
      "Index(['Operator Id', 'Census Region', 'NERC Region', 'Sector Name', '1-2014',\n",
      "       '2-2014', '3-2014', '4-2014', '5-2014', '6-2014', '7-2014', '8-2014',\n",
      "       '9-2014', '10-2014', '11-2014', '12-2014',\n",
      "       'Net Generation Year To Date'],\n",
      "      dtype='object')\n",
      "2016.csv (4078, 17)\n",
      "Index(['Operator Id', 'Census Region', 'NERC Region', 'Sector Name', '1-2016',\n",
      "       '2-2016', '3-2016', '4-2016', '5-2016', '6-2016', '7-2016', '8-2016',\n",
      "       '9-2016', '10-2016', '11-2016', '12-2016',\n",
      "       'Net Generation Year To Date'],\n",
      "      dtype='object')\n",
      "2017.csv (3995, 17)\n",
      "Index(['Operator Id', 'Census Region', 'NERC Region', 'Sector Name', '1-2017',\n",
      "       '2-2017', '3-2017', '4-2017', '5-2017', '6-2017', '7-2017', '8-2017',\n",
      "       '9-2017', '10-2017', '11-2017', '12-2017',\n",
      "       'Net Generation Year To Date'],\n",
      "      dtype='object')\n",
      "2013.csv (3466, 17)\n",
      "Index(['Operator Id', 'Census Region', 'NERC Region', 'Sector Name', '1-2013',\n",
      "       '2-2013', '3-2013', '4-2013', '5-2013', '6-2013', '7-2013', '8-2013',\n",
      "       '9-2013', '10-2013', '11-2013', '12-2013',\n",
      "       'Net Generation Year To Date'],\n",
      "      dtype='object')\n",
      "2012.csv (3070, 17)\n",
      "Index(['Operator Id', 'Census Region', 'NERC Region', 'Sector Name', '1-2012',\n",
      "       '2-2012', '3-2012', '4-2012', '5-2012', '6-2012', '7-2012', '8-2012',\n",
      "       '9-2012', '10-2012', '11-2012', '12-2012',\n",
      "       'Net Generation Year To Date'],\n",
      "      dtype='object')\n",
      "2010.csv (2968, 17)\n",
      "Index(['Operator Id', 'Census Region', 'NERC Region', 'Sector Name', '1-2010',\n",
      "       '2-2010', '3-2010', '4-2010', '5-2010', '6-2010', '7-2010', '8-2010',\n",
      "       '9-2010', '10-2010', '11-2010', '12-2010',\n",
      "       'Net Generation Year To Date'],\n",
      "      dtype='object')\n"
     ]
    },
    {
     "name": "stderr",
     "output_type": "stream",
     "text": [
      "/var/folders/0m/kh104v054nj9529192f5_0_00000gn/T/ipykernel_97572/701777706.py:23: DtypeWarning: Columns (5,6,7,8,9,10,11,12,13,14,15,16,18,19,20,21,22,23,24,25,26,27,28,29,42,43,44,45,46,47,48,49,50,51,52,53,54,55,56,57,58,59,60,61,62,63,64,65,66,67,68,69,70,71,72,73,74,75,76,77,78,79,80,81,82,83,84,85,86,87,88,89,90,91,92,93,94,95,96,97,98,99,100,101,102,103,104,105,106,107,108,109,110,111,112,113,114,115,116,117,118,119,120,121,122,123,124,125,126,127,128,129,130,131,132,133,134,135,136,137,138,139,140,141,142,143,144,145,146,147,148,149,162,163,164,165,166,167,168,169,170,171,172,173) have mixed types. Specify dtype option on import or set low_memory=False.\n",
      "  df = pd.read_csv(filePath)\n"
     ]
    },
    {
     "ename": "KeyError",
     "evalue": "'Plant Id'",
     "output_type": "error",
     "traceback": [
      "\u001b[0;31m---------------------------------------------------------------------------\u001b[0m",
      "\u001b[0;31mKeyError\u001b[0m                                  Traceback (most recent call last)",
      "File \u001b[0;32m~/opt/miniconda3/envs/py38/lib/python3.8/site-packages/pandas/core/indexes/base.py:3802\u001b[0m, in \u001b[0;36mIndex.get_loc\u001b[0;34m(self, key, method, tolerance)\u001b[0m\n\u001b[1;32m   3801\u001b[0m \u001b[39mtry\u001b[39;00m:\n\u001b[0;32m-> 3802\u001b[0m     \u001b[39mreturn\u001b[39;00m \u001b[39mself\u001b[39;49m\u001b[39m.\u001b[39;49m_engine\u001b[39m.\u001b[39;49mget_loc(casted_key)\n\u001b[1;32m   3803\u001b[0m \u001b[39mexcept\u001b[39;00m \u001b[39mKeyError\u001b[39;00m \u001b[39mas\u001b[39;00m err:\n",
      "File \u001b[0;32m~/opt/miniconda3/envs/py38/lib/python3.8/site-packages/pandas/_libs/index.pyx:138\u001b[0m, in \u001b[0;36mpandas._libs.index.IndexEngine.get_loc\u001b[0;34m()\u001b[0m\n",
      "File \u001b[0;32m~/opt/miniconda3/envs/py38/lib/python3.8/site-packages/pandas/_libs/index.pyx:165\u001b[0m, in \u001b[0;36mpandas._libs.index.IndexEngine.get_loc\u001b[0;34m()\u001b[0m\n",
      "File \u001b[0;32mpandas/_libs/hashtable_class_helper.pxi:5745\u001b[0m, in \u001b[0;36mpandas._libs.hashtable.PyObjectHashTable.get_item\u001b[0;34m()\u001b[0m\n",
      "File \u001b[0;32mpandas/_libs/hashtable_class_helper.pxi:5753\u001b[0m, in \u001b[0;36mpandas._libs.hashtable.PyObjectHashTable.get_item\u001b[0;34m()\u001b[0m\n",
      "\u001b[0;31mKeyError\u001b[0m: 'Plant Id'",
      "\nThe above exception was the direct cause of the following exception:\n",
      "\u001b[0;31mKeyError\u001b[0m                                  Traceback (most recent call last)",
      "Cell \u001b[0;32mIn[84], line 29\u001b[0m\n\u001b[1;32m     27\u001b[0m         df \u001b[39m=\u001b[39m df\u001b[39m.\u001b[39mrename(columns\u001b[39m=\u001b[39m{col:\u001b[39mf\u001b[39m\u001b[39m'\u001b[39m\u001b[39m{\u001b[39;00mmonth_dict[col]\u001b[39m}\u001b[39;00m\u001b[39m-\u001b[39m\u001b[39m{\u001b[39;00mdf[\u001b[39m\"\u001b[39m\u001b[39mYEAR\u001b[39m\u001b[39m\"\u001b[39m][\u001b[39m0\u001b[39m]\u001b[39m}\u001b[39;00m\u001b[39m'\u001b[39m})\n\u001b[1;32m     28\u001b[0m \u001b[39m# Concatenate the Generator Id and Plant Id columns\u001b[39;00m\n\u001b[0;32m---> 29\u001b[0m df[\u001b[39m'\u001b[39m\u001b[39mGenerator Id\u001b[39m\u001b[39m'\u001b[39m] \u001b[39m=\u001b[39m df[\u001b[39m'\u001b[39;49m\u001b[39mPlant Id\u001b[39;49m\u001b[39m'\u001b[39;49m]\u001b[39m.\u001b[39mastype(\u001b[39mstr\u001b[39m) \u001b[39m+\u001b[39m \u001b[39m'\u001b[39m\u001b[39m-\u001b[39m\u001b[39m'\u001b[39m \u001b[39m+\u001b[39m df[\u001b[39m'\u001b[39m\u001b[39mGenerator Id\u001b[39m\u001b[39m'\u001b[39m]\u001b[39m.\u001b[39mastype(\u001b[39mstr\u001b[39m)\n\u001b[1;32m     30\u001b[0m \u001b[39m# Use the Generator Id as the index\u001b[39;00m\n\u001b[1;32m     31\u001b[0m df \u001b[39m=\u001b[39m df\u001b[39m.\u001b[39mset_index(\u001b[39m'\u001b[39m\u001b[39mGenerator Id\u001b[39m\u001b[39m'\u001b[39m)\n",
      "File \u001b[0;32m~/opt/miniconda3/envs/py38/lib/python3.8/site-packages/pandas/core/frame.py:3807\u001b[0m, in \u001b[0;36mDataFrame.__getitem__\u001b[0;34m(self, key)\u001b[0m\n\u001b[1;32m   3805\u001b[0m \u001b[39mif\u001b[39;00m \u001b[39mself\u001b[39m\u001b[39m.\u001b[39mcolumns\u001b[39m.\u001b[39mnlevels \u001b[39m>\u001b[39m \u001b[39m1\u001b[39m:\n\u001b[1;32m   3806\u001b[0m     \u001b[39mreturn\u001b[39;00m \u001b[39mself\u001b[39m\u001b[39m.\u001b[39m_getitem_multilevel(key)\n\u001b[0;32m-> 3807\u001b[0m indexer \u001b[39m=\u001b[39m \u001b[39mself\u001b[39;49m\u001b[39m.\u001b[39;49mcolumns\u001b[39m.\u001b[39;49mget_loc(key)\n\u001b[1;32m   3808\u001b[0m \u001b[39mif\u001b[39;00m is_integer(indexer):\n\u001b[1;32m   3809\u001b[0m     indexer \u001b[39m=\u001b[39m [indexer]\n",
      "File \u001b[0;32m~/opt/miniconda3/envs/py38/lib/python3.8/site-packages/pandas/core/indexes/base.py:3804\u001b[0m, in \u001b[0;36mIndex.get_loc\u001b[0;34m(self, key, method, tolerance)\u001b[0m\n\u001b[1;32m   3802\u001b[0m     \u001b[39mreturn\u001b[39;00m \u001b[39mself\u001b[39m\u001b[39m.\u001b[39m_engine\u001b[39m.\u001b[39mget_loc(casted_key)\n\u001b[1;32m   3803\u001b[0m \u001b[39mexcept\u001b[39;00m \u001b[39mKeyError\u001b[39;00m \u001b[39mas\u001b[39;00m err:\n\u001b[0;32m-> 3804\u001b[0m     \u001b[39mraise\u001b[39;00m \u001b[39mKeyError\u001b[39;00m(key) \u001b[39mfrom\u001b[39;00m \u001b[39merr\u001b[39;00m\n\u001b[1;32m   3805\u001b[0m \u001b[39mexcept\u001b[39;00m \u001b[39mTypeError\u001b[39;00m:\n\u001b[1;32m   3806\u001b[0m     \u001b[39m# If we have a listlike key, _check_indexing_error will raise\u001b[39;00m\n\u001b[1;32m   3807\u001b[0m     \u001b[39m#  InvalidIndexError. Otherwise we fall through and re-raise\u001b[39;00m\n\u001b[1;32m   3808\u001b[0m     \u001b[39m#  the TypeError.\u001b[39;00m\n\u001b[1;32m   3809\u001b[0m     \u001b[39mself\u001b[39m\u001b[39m.\u001b[39m_check_indexing_error(key)\n",
      "\u001b[0;31mKeyError\u001b[0m: 'Plant Id'"
     ]
    }
   ],
   "source": [
    "# read in the csv files\n",
    "dir = \"data\"\n",
    "\n",
    "dfs = []\n",
    "columns = []\n",
    "month_dict = {\n",
    "    'Net Generation January':1,\n",
    "    'Net Generation February':2,\n",
    "    'Net Generation March':3,\n",
    "    'Net Generation April':4,\n",
    "    'Net Generation May':5,\n",
    "    'Net Generation June':6,\n",
    "    'Net Generation July':7,\n",
    "    'Net Generation August':8,\n",
    "    'Net Generation September':9,\n",
    "    'Net Generation October':10,\n",
    "    'Net Generation November':11,\n",
    "    'Net Generation December':12\n",
    "}\n",
    "for filename in os.listdir(dir):\n",
    "    if filename.endswith('.csv'):\n",
    "        filePath = os.path.join(dir,filename)\n",
    "        df = pd.read_csv(filePath)\n",
    "        # For each net generation column, change the column name to the month and year\n",
    "        for col in df.columns:\n",
    "            if 'Net Generation' in col and col in month_dict:\n",
    "                df = df.rename(columns={col:f'{month_dict[col]}-{df[\"YEAR\"][0]}'})\n",
    "        # Concatenate the Generator Id and Plant Id columns\n",
    "        df['Generator Id'] = df['Plant Id'].astype(str) + '-' + df['Generator Id'].astype(str)\n",
    "        # Use the Generator Id as the index\n",
    "        df = df.set_index('Generator Id')\n",
    "        # Drop the Plant Id column\n",
    "        df = df.drop(columns=['Plant Id', 'Combined Heat And Power Plant', 'Plant Name', 'Operator Name',\n",
    "        'Plant State', 'Sector Number', 'Reported Prime Mover', 'Plant State', 'YEAR', 'NAICS Code'])\n",
    "\n",
    "\n",
    "        print(filename, df.shape)\n",
    "        print(df.columns)\n",
    "        dfs.append(df)"
   ]
  },
  {
   "cell_type": "code",
   "execution_count": null,
   "metadata": {},
   "outputs": [
    {
     "ename": "InvalidIndexError",
     "evalue": "Reindexing only valid with uniquely valued Index objects",
     "output_type": "error",
     "traceback": [
      "\u001b[0;31m---------------------------------------------------------------------------\u001b[0m",
      "\u001b[0;31mInvalidIndexError\u001b[0m                         Traceback (most recent call last)",
      "Cell \u001b[0;32mIn[81], line 2\u001b[0m\n\u001b[1;32m      1\u001b[0m \u001b[39m# join the dataframes by index\u001b[39;00m\n\u001b[0;32m----> 2\u001b[0m df \u001b[39m=\u001b[39m pd\u001b[39m.\u001b[39;49mconcat(dfs, axis\u001b[39m=\u001b[39;49m\u001b[39m1\u001b[39;49m, join\u001b[39m=\u001b[39;49m\u001b[39m'\u001b[39;49m\u001b[39mouter\u001b[39;49m\u001b[39m'\u001b[39;49m)\n\u001b[1;32m      3\u001b[0m df\u001b[39m.\u001b[39mto_csv(\u001b[39m'\u001b[39m\u001b[39mdata/combined.csv\u001b[39m\u001b[39m'\u001b[39m)\n",
      "File \u001b[0;32m~/opt/miniconda3/envs/py38/lib/python3.8/site-packages/pandas/util/_decorators.py:331\u001b[0m, in \u001b[0;36mdeprecate_nonkeyword_arguments.<locals>.decorate.<locals>.wrapper\u001b[0;34m(*args, **kwargs)\u001b[0m\n\u001b[1;32m    325\u001b[0m \u001b[39mif\u001b[39;00m \u001b[39mlen\u001b[39m(args) \u001b[39m>\u001b[39m num_allow_args:\n\u001b[1;32m    326\u001b[0m     warnings\u001b[39m.\u001b[39mwarn(\n\u001b[1;32m    327\u001b[0m         msg\u001b[39m.\u001b[39mformat(arguments\u001b[39m=\u001b[39m_format_argument_list(allow_args)),\n\u001b[1;32m    328\u001b[0m         \u001b[39mFutureWarning\u001b[39;00m,\n\u001b[1;32m    329\u001b[0m         stacklevel\u001b[39m=\u001b[39mfind_stack_level(),\n\u001b[1;32m    330\u001b[0m     )\n\u001b[0;32m--> 331\u001b[0m \u001b[39mreturn\u001b[39;00m func(\u001b[39m*\u001b[39;49margs, \u001b[39m*\u001b[39;49m\u001b[39m*\u001b[39;49mkwargs)\n",
      "File \u001b[0;32m~/opt/miniconda3/envs/py38/lib/python3.8/site-packages/pandas/core/reshape/concat.py:381\u001b[0m, in \u001b[0;36mconcat\u001b[0;34m(objs, axis, join, ignore_index, keys, levels, names, verify_integrity, sort, copy)\u001b[0m\n\u001b[1;32m    159\u001b[0m \u001b[39m\u001b[39m\u001b[39m\"\"\"\u001b[39;00m\n\u001b[1;32m    160\u001b[0m \u001b[39mConcatenate pandas objects along a particular axis.\u001b[39;00m\n\u001b[1;32m    161\u001b[0m \n\u001b[0;32m   (...)\u001b[0m\n\u001b[1;32m    366\u001b[0m \u001b[39m1   3   4\u001b[39;00m\n\u001b[1;32m    367\u001b[0m \u001b[39m\"\"\"\u001b[39;00m\n\u001b[1;32m    368\u001b[0m op \u001b[39m=\u001b[39m _Concatenator(\n\u001b[1;32m    369\u001b[0m     objs,\n\u001b[1;32m    370\u001b[0m     axis\u001b[39m=\u001b[39maxis,\n\u001b[0;32m   (...)\u001b[0m\n\u001b[1;32m    378\u001b[0m     sort\u001b[39m=\u001b[39msort,\n\u001b[1;32m    379\u001b[0m )\n\u001b[0;32m--> 381\u001b[0m \u001b[39mreturn\u001b[39;00m op\u001b[39m.\u001b[39;49mget_result()\n",
      "File \u001b[0;32m~/opt/miniconda3/envs/py38/lib/python3.8/site-packages/pandas/core/reshape/concat.py:612\u001b[0m, in \u001b[0;36m_Concatenator.get_result\u001b[0;34m(self)\u001b[0m\n\u001b[1;32m    610\u001b[0m         obj_labels \u001b[39m=\u001b[39m obj\u001b[39m.\u001b[39maxes[\u001b[39m1\u001b[39m \u001b[39m-\u001b[39m ax]\n\u001b[1;32m    611\u001b[0m         \u001b[39mif\u001b[39;00m \u001b[39mnot\u001b[39;00m new_labels\u001b[39m.\u001b[39mequals(obj_labels):\n\u001b[0;32m--> 612\u001b[0m             indexers[ax] \u001b[39m=\u001b[39m obj_labels\u001b[39m.\u001b[39;49mget_indexer(new_labels)\n\u001b[1;32m    614\u001b[0m     mgrs_indexers\u001b[39m.\u001b[39mappend((obj\u001b[39m.\u001b[39m_mgr, indexers))\n\u001b[1;32m    616\u001b[0m new_data \u001b[39m=\u001b[39m concatenate_managers(\n\u001b[1;32m    617\u001b[0m     mgrs_indexers, \u001b[39mself\u001b[39m\u001b[39m.\u001b[39mnew_axes, concat_axis\u001b[39m=\u001b[39m\u001b[39mself\u001b[39m\u001b[39m.\u001b[39mbm_axis, copy\u001b[39m=\u001b[39m\u001b[39mself\u001b[39m\u001b[39m.\u001b[39mcopy\n\u001b[1;32m    618\u001b[0m )\n",
      "File \u001b[0;32m~/opt/miniconda3/envs/py38/lib/python3.8/site-packages/pandas/core/indexes/base.py:3904\u001b[0m, in \u001b[0;36mIndex.get_indexer\u001b[0;34m(self, target, method, limit, tolerance)\u001b[0m\n\u001b[1;32m   3901\u001b[0m \u001b[39mself\u001b[39m\u001b[39m.\u001b[39m_check_indexing_method(method, limit, tolerance)\n\u001b[1;32m   3903\u001b[0m \u001b[39mif\u001b[39;00m \u001b[39mnot\u001b[39;00m \u001b[39mself\u001b[39m\u001b[39m.\u001b[39m_index_as_unique:\n\u001b[0;32m-> 3904\u001b[0m     \u001b[39mraise\u001b[39;00m InvalidIndexError(\u001b[39mself\u001b[39m\u001b[39m.\u001b[39m_requires_unique_msg)\n\u001b[1;32m   3906\u001b[0m \u001b[39mif\u001b[39;00m \u001b[39mlen\u001b[39m(target) \u001b[39m==\u001b[39m \u001b[39m0\u001b[39m:\n\u001b[1;32m   3907\u001b[0m     \u001b[39mreturn\u001b[39;00m np\u001b[39m.\u001b[39marray([], dtype\u001b[39m=\u001b[39mnp\u001b[39m.\u001b[39mintp)\n",
      "\u001b[0;31mInvalidIndexError\u001b[0m: Reindexing only valid with uniquely valued Index objects"
     ]
    }
   ],
   "source": [
    "# join the dataframes by index\n",
    "df = pd.concat(dfs, axis=1, join='outer')\n",
    "df.to_csv('data/combined.csv')"
   ]
  },
  {
   "cell_type": "code",
   "execution_count": null,
   "metadata": {},
   "outputs": [],
   "source": []
  }
 ],
 "metadata": {
  "kernelspec": {
   "display_name": "base",
   "language": "python",
   "name": "python3"
  },
  "language_info": {
   "codemirror_mode": {
    "name": "ipython",
    "version": 3
   },
   "file_extension": ".py",
   "mimetype": "text/x-python",
   "name": "python",
   "nbconvert_exporter": "python",
   "pygments_lexer": "ipython3",
   "version": "3.8.16"
  },
  "orig_nbformat": 4
 },
 "nbformat": 4,
 "nbformat_minor": 2
}
