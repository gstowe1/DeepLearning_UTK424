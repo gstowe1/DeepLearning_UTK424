{
 "cells": [
  {
   "attachments": {},
   "cell_type": "markdown",
   "metadata": {},
   "source": [
    "# import libs\n"
   ]
  },
  {
   "cell_type": "code",
   "execution_count": 2,
   "metadata": {},
   "outputs": [],
   "source": [
    "import pandas as  pd\n",
    "import numpy as np\n",
    "import matplotlib as plt\n",
    "import os"
   ]
  },
  {
   "cell_type": "code",
   "execution_count": 49,
   "metadata": {},
   "outputs": [
    {
     "name": "stdout",
     "output_type": "stream",
     "text": [
      "2011.xlsx 5\n",
      "2012.xlsx 5\n",
      "2013.xlsx 5\n",
      "2014.xlsx 5\n",
      "2015.xlsx 5\n",
      "2016.xlsx 5\n",
      "2017.xlsx 5\n",
      "2018.xlsx 5\n",
      "2019.xlsx 5\n",
      "2020.xlsx 5\n",
      "2021.xlsx 5\n",
      "2022.xlsx 4\n"
     ]
    }
   ],
   "source": [
    "# dir = \"Extracted\"\n",
    "# sheet = \"Page 4 Generator Data\"\n",
    "\n",
    "\n",
    "\n",
    "# for filename in os.listdir(dir):\n",
    "#     if filename.endswith('.xlsx'):\n",
    "#         filePath = os.path.join(dir,filename)\n",
    "#         excelFile = pd.read_excel(filePath,sheet_name=sheet,header=None)\n",
    "       \n",
    "#         row_index = excelFile[excelFile.iloc[:,0]=='Plant Id'].index[0]\n",
    "#         excelFile.columns = excelFile.iloc[row_index]\n",
    "#         excelFile.columns = [col.replace('\\n',' ') for col in excelFile.columns]\n",
    "#         excelFile = excelFile.iloc[row_index+1:,:]\n",
    "\n",
    "#         print(filename, row_index)\n",
    "#         excelFile.to_csv('csv/'+filename.removesuffix('.xlsx')+'.csv',index=None)"
   ]
  },
  {
   "cell_type": "code",
   "execution_count": null,
   "metadata": {},
   "outputs": [],
   "source": []
  },
  {
   "cell_type": "code",
   "execution_count": 50,
   "metadata": {},
   "outputs": [
    {
     "name": "stdout",
     "output_type": "stream",
     "text": [
      "2022\n"
     ]
    }
   ],
   "source": []
  },
  {
   "cell_type": "code",
   "execution_count": null,
   "metadata": {},
   "outputs": [],
   "source": []
  }
 ],
 "metadata": {
  "kernelspec": {
   "display_name": "base",
   "language": "python",
   "name": "python3"
  },
  "language_info": {
   "codemirror_mode": {
    "name": "ipython",
    "version": 3
   },
   "file_extension": ".py",
   "mimetype": "text/x-python",
   "name": "python",
   "nbconvert_exporter": "python",
   "pygments_lexer": "ipython3",
   "version": "3.9.13"
  },
  "orig_nbformat": 4
 },
 "nbformat": 4,
 "nbformat_minor": 2
}
